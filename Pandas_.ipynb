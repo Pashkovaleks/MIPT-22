{
  "cells": [
    {
      "cell_type": "markdown",
      "metadata": {
        "id": "view-in-github",
        "colab_type": "text"
      },
      "source": [
        "<a href=\"https://colab.research.google.com/github/Pashkovaleks/MIPT-22/blob/main/Pandas_.ipynb\" target=\"_parent\"><img src=\"https://colab.research.google.com/assets/colab-badge.svg\" alt=\"Open In Colab\"/></a>"
      ]
    },
    {
      "cell_type": "code",
      "source": [
        "import pandas as pd"
      ],
      "metadata": {
        "id": "fcWD9G8PoCWy"
      },
      "id": "fcWD9G8PoCWy",
      "execution_count": 61,
      "outputs": []
    },
    {
      "cell_type": "markdown",
      "id": "423cefbe",
      "metadata": {
        "id": "423cefbe"
      },
      "source": [
        "# Изучим подробнее train dataset"
      ]
    },
    {
      "cell_type": "code",
      "execution_count": 62,
      "id": "40638f5c",
      "metadata": {
        "id": "40638f5c",
        "outputId": "d81c4bc4-b00b-4a46-9eef-226b24fc51d0",
        "colab": {
          "base_uri": "https://localhost:8080/",
          "height": 270
        }
      },
      "outputs": [
        {
          "output_type": "execute_result",
          "data": {
            "text/plain": [
              "   row_id  timestamp  user_id  content_id  content_type_id  task_container_id  \\\n",
              "0       0          0      115        5692                0                  1   \n",
              "1       1      56943      115        5716                0                  2   \n",
              "2       2     118363      115         128                0                  0   \n",
              "3       3     131167      115        7860                0                  3   \n",
              "4       4     137965      115        7922                0                  4   \n",
              "\n",
              "   user_answer  answered_correctly  prior_question_elapsed_time  \\\n",
              "0            3                   1                          NaN   \n",
              "1            2                   1                      37000.0   \n",
              "2            0                   1                      55000.0   \n",
              "3            0                   1                      19000.0   \n",
              "4            1                   1                      11000.0   \n",
              "\n",
              "  prior_question_had_explanation  \n",
              "0                            NaN  \n",
              "1                          False  \n",
              "2                          False  \n",
              "3                          False  \n",
              "4                          False  "
            ],
            "text/html": [
              "\n",
              "  <div id=\"df-993096e7-c0e0-4be8-a8e8-39b1a9d81586\">\n",
              "    <div class=\"colab-df-container\">\n",
              "      <div>\n",
              "<style scoped>\n",
              "    .dataframe tbody tr th:only-of-type {\n",
              "        vertical-align: middle;\n",
              "    }\n",
              "\n",
              "    .dataframe tbody tr th {\n",
              "        vertical-align: top;\n",
              "    }\n",
              "\n",
              "    .dataframe thead th {\n",
              "        text-align: right;\n",
              "    }\n",
              "</style>\n",
              "<table border=\"1\" class=\"dataframe\">\n",
              "  <thead>\n",
              "    <tr style=\"text-align: right;\">\n",
              "      <th></th>\n",
              "      <th>row_id</th>\n",
              "      <th>timestamp</th>\n",
              "      <th>user_id</th>\n",
              "      <th>content_id</th>\n",
              "      <th>content_type_id</th>\n",
              "      <th>task_container_id</th>\n",
              "      <th>user_answer</th>\n",
              "      <th>answered_correctly</th>\n",
              "      <th>prior_question_elapsed_time</th>\n",
              "      <th>prior_question_had_explanation</th>\n",
              "    </tr>\n",
              "  </thead>\n",
              "  <tbody>\n",
              "    <tr>\n",
              "      <th>0</th>\n",
              "      <td>0</td>\n",
              "      <td>0</td>\n",
              "      <td>115</td>\n",
              "      <td>5692</td>\n",
              "      <td>0</td>\n",
              "      <td>1</td>\n",
              "      <td>3</td>\n",
              "      <td>1</td>\n",
              "      <td>NaN</td>\n",
              "      <td>NaN</td>\n",
              "    </tr>\n",
              "    <tr>\n",
              "      <th>1</th>\n",
              "      <td>1</td>\n",
              "      <td>56943</td>\n",
              "      <td>115</td>\n",
              "      <td>5716</td>\n",
              "      <td>0</td>\n",
              "      <td>2</td>\n",
              "      <td>2</td>\n",
              "      <td>1</td>\n",
              "      <td>37000.0</td>\n",
              "      <td>False</td>\n",
              "    </tr>\n",
              "    <tr>\n",
              "      <th>2</th>\n",
              "      <td>2</td>\n",
              "      <td>118363</td>\n",
              "      <td>115</td>\n",
              "      <td>128</td>\n",
              "      <td>0</td>\n",
              "      <td>0</td>\n",
              "      <td>0</td>\n",
              "      <td>1</td>\n",
              "      <td>55000.0</td>\n",
              "      <td>False</td>\n",
              "    </tr>\n",
              "    <tr>\n",
              "      <th>3</th>\n",
              "      <td>3</td>\n",
              "      <td>131167</td>\n",
              "      <td>115</td>\n",
              "      <td>7860</td>\n",
              "      <td>0</td>\n",
              "      <td>3</td>\n",
              "      <td>0</td>\n",
              "      <td>1</td>\n",
              "      <td>19000.0</td>\n",
              "      <td>False</td>\n",
              "    </tr>\n",
              "    <tr>\n",
              "      <th>4</th>\n",
              "      <td>4</td>\n",
              "      <td>137965</td>\n",
              "      <td>115</td>\n",
              "      <td>7922</td>\n",
              "      <td>0</td>\n",
              "      <td>4</td>\n",
              "      <td>1</td>\n",
              "      <td>1</td>\n",
              "      <td>11000.0</td>\n",
              "      <td>False</td>\n",
              "    </tr>\n",
              "  </tbody>\n",
              "</table>\n",
              "</div>\n",
              "      <button class=\"colab-df-convert\" onclick=\"convertToInteractive('df-993096e7-c0e0-4be8-a8e8-39b1a9d81586')\"\n",
              "              title=\"Convert this dataframe to an interactive table.\"\n",
              "              style=\"display:none;\">\n",
              "        \n",
              "  <svg xmlns=\"http://www.w3.org/2000/svg\" height=\"24px\"viewBox=\"0 0 24 24\"\n",
              "       width=\"24px\">\n",
              "    <path d=\"M0 0h24v24H0V0z\" fill=\"none\"/>\n",
              "    <path d=\"M18.56 5.44l.94 2.06.94-2.06 2.06-.94-2.06-.94-.94-2.06-.94 2.06-2.06.94zm-11 1L8.5 8.5l.94-2.06 2.06-.94-2.06-.94L8.5 2.5l-.94 2.06-2.06.94zm10 10l.94 2.06.94-2.06 2.06-.94-2.06-.94-.94-2.06-.94 2.06-2.06.94z\"/><path d=\"M17.41 7.96l-1.37-1.37c-.4-.4-.92-.59-1.43-.59-.52 0-1.04.2-1.43.59L10.3 9.45l-7.72 7.72c-.78.78-.78 2.05 0 2.83L4 21.41c.39.39.9.59 1.41.59.51 0 1.02-.2 1.41-.59l7.78-7.78 2.81-2.81c.8-.78.8-2.07 0-2.86zM5.41 20L4 18.59l7.72-7.72 1.47 1.35L5.41 20z\"/>\n",
              "  </svg>\n",
              "      </button>\n",
              "      \n",
              "  <style>\n",
              "    .colab-df-container {\n",
              "      display:flex;\n",
              "      flex-wrap:wrap;\n",
              "      gap: 12px;\n",
              "    }\n",
              "\n",
              "    .colab-df-convert {\n",
              "      background-color: #E8F0FE;\n",
              "      border: none;\n",
              "      border-radius: 50%;\n",
              "      cursor: pointer;\n",
              "      display: none;\n",
              "      fill: #1967D2;\n",
              "      height: 32px;\n",
              "      padding: 0 0 0 0;\n",
              "      width: 32px;\n",
              "    }\n",
              "\n",
              "    .colab-df-convert:hover {\n",
              "      background-color: #E2EBFA;\n",
              "      box-shadow: 0px 1px 2px rgba(60, 64, 67, 0.3), 0px 1px 3px 1px rgba(60, 64, 67, 0.15);\n",
              "      fill: #174EA6;\n",
              "    }\n",
              "\n",
              "    [theme=dark] .colab-df-convert {\n",
              "      background-color: #3B4455;\n",
              "      fill: #D2E3FC;\n",
              "    }\n",
              "\n",
              "    [theme=dark] .colab-df-convert:hover {\n",
              "      background-color: #434B5C;\n",
              "      box-shadow: 0px 1px 3px 1px rgba(0, 0, 0, 0.15);\n",
              "      filter: drop-shadow(0px 1px 2px rgba(0, 0, 0, 0.3));\n",
              "      fill: #FFFFFF;\n",
              "    }\n",
              "  </style>\n",
              "\n",
              "      <script>\n",
              "        const buttonEl =\n",
              "          document.querySelector('#df-993096e7-c0e0-4be8-a8e8-39b1a9d81586 button.colab-df-convert');\n",
              "        buttonEl.style.display =\n",
              "          google.colab.kernel.accessAllowed ? 'block' : 'none';\n",
              "\n",
              "        async function convertToInteractive(key) {\n",
              "          const element = document.querySelector('#df-993096e7-c0e0-4be8-a8e8-39b1a9d81586');\n",
              "          const dataTable =\n",
              "            await google.colab.kernel.invokeFunction('convertToInteractive',\n",
              "                                                     [key], {});\n",
              "          if (!dataTable) return;\n",
              "\n",
              "          const docLinkHtml = 'Like what you see? Visit the ' +\n",
              "            '<a target=\"_blank\" href=https://colab.research.google.com/notebooks/data_table.ipynb>data table notebook</a>'\n",
              "            + ' to learn more about interactive tables.';\n",
              "          element.innerHTML = '';\n",
              "          dataTable['output_type'] = 'display_data';\n",
              "          await google.colab.output.renderOutput(dataTable, element);\n",
              "          const docLink = document.createElement('div');\n",
              "          docLink.innerHTML = docLinkHtml;\n",
              "          element.appendChild(docLink);\n",
              "        }\n",
              "      </script>\n",
              "    </div>\n",
              "  </div>\n",
              "  "
            ]
          },
          "metadata": {},
          "execution_count": 62
        }
      ],
      "source": [
        "train_data = pd.read_csv('data/train.csv', sep=',')\n",
        "train_data.head()"
      ]
    },
    {
      "cell_type": "code",
      "execution_count": 63,
      "id": "974fb5af",
      "metadata": {
        "id": "974fb5af",
        "outputId": "ca9e0d82-12ca-4e0e-ab32-b80c6451479e",
        "colab": {
          "base_uri": "https://localhost:8080/",
          "height": 333
        }
      },
      "outputs": [
        {
          "output_type": "execute_result",
          "data": {
            "text/plain": [
              "       row_id  timestamp  user_id  content_id  content_type_id  \\\n",
              "99992   99992  153556151  2078569        4519                0   \n",
              "99993   99993  153588037  2078569        3639                0   \n",
              "99994   99994  153615763  2078569        3644                0   \n",
              "99995   99995  153647401  2078569        4334                0   \n",
              "99996   99996  153692472  2078569        6436                0   \n",
              "99997   99997  153722998  2078569        6446                0   \n",
              "99998   99998  153759775  2078569        3715                0   \n",
              "\n",
              "       task_container_id  user_answer  answered_correctly  \\\n",
              "99992                272            3                   0   \n",
              "99993                273            0                   1   \n",
              "99994                274            1                   1   \n",
              "99995                275            3                   0   \n",
              "99996                276            3                   0   \n",
              "99997                277            2                   1   \n",
              "99998                278            3                   0   \n",
              "\n",
              "       prior_question_elapsed_time prior_question_had_explanation  \n",
              "99992                      24000.0                           True  \n",
              "99993                      13000.0                           True  \n",
              "99994                      17000.0                          False  \n",
              "99995                       6000.0                           True  \n",
              "99996                       9000.0                           True  \n",
              "99997                      21000.0                           True  \n",
              "99998                      12000.0                           True  "
            ],
            "text/html": [
              "\n",
              "  <div id=\"df-f88d8237-d57b-4dd1-82a4-0ecf2b71a08b\">\n",
              "    <div class=\"colab-df-container\">\n",
              "      <div>\n",
              "<style scoped>\n",
              "    .dataframe tbody tr th:only-of-type {\n",
              "        vertical-align: middle;\n",
              "    }\n",
              "\n",
              "    .dataframe tbody tr th {\n",
              "        vertical-align: top;\n",
              "    }\n",
              "\n",
              "    .dataframe thead th {\n",
              "        text-align: right;\n",
              "    }\n",
              "</style>\n",
              "<table border=\"1\" class=\"dataframe\">\n",
              "  <thead>\n",
              "    <tr style=\"text-align: right;\">\n",
              "      <th></th>\n",
              "      <th>row_id</th>\n",
              "      <th>timestamp</th>\n",
              "      <th>user_id</th>\n",
              "      <th>content_id</th>\n",
              "      <th>content_type_id</th>\n",
              "      <th>task_container_id</th>\n",
              "      <th>user_answer</th>\n",
              "      <th>answered_correctly</th>\n",
              "      <th>prior_question_elapsed_time</th>\n",
              "      <th>prior_question_had_explanation</th>\n",
              "    </tr>\n",
              "  </thead>\n",
              "  <tbody>\n",
              "    <tr>\n",
              "      <th>99992</th>\n",
              "      <td>99992</td>\n",
              "      <td>153556151</td>\n",
              "      <td>2078569</td>\n",
              "      <td>4519</td>\n",
              "      <td>0</td>\n",
              "      <td>272</td>\n",
              "      <td>3</td>\n",
              "      <td>0</td>\n",
              "      <td>24000.0</td>\n",
              "      <td>True</td>\n",
              "    </tr>\n",
              "    <tr>\n",
              "      <th>99993</th>\n",
              "      <td>99993</td>\n",
              "      <td>153588037</td>\n",
              "      <td>2078569</td>\n",
              "      <td>3639</td>\n",
              "      <td>0</td>\n",
              "      <td>273</td>\n",
              "      <td>0</td>\n",
              "      <td>1</td>\n",
              "      <td>13000.0</td>\n",
              "      <td>True</td>\n",
              "    </tr>\n",
              "    <tr>\n",
              "      <th>99994</th>\n",
              "      <td>99994</td>\n",
              "      <td>153615763</td>\n",
              "      <td>2078569</td>\n",
              "      <td>3644</td>\n",
              "      <td>0</td>\n",
              "      <td>274</td>\n",
              "      <td>1</td>\n",
              "      <td>1</td>\n",
              "      <td>17000.0</td>\n",
              "      <td>False</td>\n",
              "    </tr>\n",
              "    <tr>\n",
              "      <th>99995</th>\n",
              "      <td>99995</td>\n",
              "      <td>153647401</td>\n",
              "      <td>2078569</td>\n",
              "      <td>4334</td>\n",
              "      <td>0</td>\n",
              "      <td>275</td>\n",
              "      <td>3</td>\n",
              "      <td>0</td>\n",
              "      <td>6000.0</td>\n",
              "      <td>True</td>\n",
              "    </tr>\n",
              "    <tr>\n",
              "      <th>99996</th>\n",
              "      <td>99996</td>\n",
              "      <td>153692472</td>\n",
              "      <td>2078569</td>\n",
              "      <td>6436</td>\n",
              "      <td>0</td>\n",
              "      <td>276</td>\n",
              "      <td>3</td>\n",
              "      <td>0</td>\n",
              "      <td>9000.0</td>\n",
              "      <td>True</td>\n",
              "    </tr>\n",
              "    <tr>\n",
              "      <th>99997</th>\n",
              "      <td>99997</td>\n",
              "      <td>153722998</td>\n",
              "      <td>2078569</td>\n",
              "      <td>6446</td>\n",
              "      <td>0</td>\n",
              "      <td>277</td>\n",
              "      <td>2</td>\n",
              "      <td>1</td>\n",
              "      <td>21000.0</td>\n",
              "      <td>True</td>\n",
              "    </tr>\n",
              "    <tr>\n",
              "      <th>99998</th>\n",
              "      <td>99998</td>\n",
              "      <td>153759775</td>\n",
              "      <td>2078569</td>\n",
              "      <td>3715</td>\n",
              "      <td>0</td>\n",
              "      <td>278</td>\n",
              "      <td>3</td>\n",
              "      <td>0</td>\n",
              "      <td>12000.0</td>\n",
              "      <td>True</td>\n",
              "    </tr>\n",
              "  </tbody>\n",
              "</table>\n",
              "</div>\n",
              "      <button class=\"colab-df-convert\" onclick=\"convertToInteractive('df-f88d8237-d57b-4dd1-82a4-0ecf2b71a08b')\"\n",
              "              title=\"Convert this dataframe to an interactive table.\"\n",
              "              style=\"display:none;\">\n",
              "        \n",
              "  <svg xmlns=\"http://www.w3.org/2000/svg\" height=\"24px\"viewBox=\"0 0 24 24\"\n",
              "       width=\"24px\">\n",
              "    <path d=\"M0 0h24v24H0V0z\" fill=\"none\"/>\n",
              "    <path d=\"M18.56 5.44l.94 2.06.94-2.06 2.06-.94-2.06-.94-.94-2.06-.94 2.06-2.06.94zm-11 1L8.5 8.5l.94-2.06 2.06-.94-2.06-.94L8.5 2.5l-.94 2.06-2.06.94zm10 10l.94 2.06.94-2.06 2.06-.94-2.06-.94-.94-2.06-.94 2.06-2.06.94z\"/><path d=\"M17.41 7.96l-1.37-1.37c-.4-.4-.92-.59-1.43-.59-.52 0-1.04.2-1.43.59L10.3 9.45l-7.72 7.72c-.78.78-.78 2.05 0 2.83L4 21.41c.39.39.9.59 1.41.59.51 0 1.02-.2 1.41-.59l7.78-7.78 2.81-2.81c.8-.78.8-2.07 0-2.86zM5.41 20L4 18.59l7.72-7.72 1.47 1.35L5.41 20z\"/>\n",
              "  </svg>\n",
              "      </button>\n",
              "      \n",
              "  <style>\n",
              "    .colab-df-container {\n",
              "      display:flex;\n",
              "      flex-wrap:wrap;\n",
              "      gap: 12px;\n",
              "    }\n",
              "\n",
              "    .colab-df-convert {\n",
              "      background-color: #E8F0FE;\n",
              "      border: none;\n",
              "      border-radius: 50%;\n",
              "      cursor: pointer;\n",
              "      display: none;\n",
              "      fill: #1967D2;\n",
              "      height: 32px;\n",
              "      padding: 0 0 0 0;\n",
              "      width: 32px;\n",
              "    }\n",
              "\n",
              "    .colab-df-convert:hover {\n",
              "      background-color: #E2EBFA;\n",
              "      box-shadow: 0px 1px 2px rgba(60, 64, 67, 0.3), 0px 1px 3px 1px rgba(60, 64, 67, 0.15);\n",
              "      fill: #174EA6;\n",
              "    }\n",
              "\n",
              "    [theme=dark] .colab-df-convert {\n",
              "      background-color: #3B4455;\n",
              "      fill: #D2E3FC;\n",
              "    }\n",
              "\n",
              "    [theme=dark] .colab-df-convert:hover {\n",
              "      background-color: #434B5C;\n",
              "      box-shadow: 0px 1px 3px 1px rgba(0, 0, 0, 0.15);\n",
              "      filter: drop-shadow(0px 1px 2px rgba(0, 0, 0, 0.3));\n",
              "      fill: #FFFFFF;\n",
              "    }\n",
              "  </style>\n",
              "\n",
              "      <script>\n",
              "        const buttonEl =\n",
              "          document.querySelector('#df-f88d8237-d57b-4dd1-82a4-0ecf2b71a08b button.colab-df-convert');\n",
              "        buttonEl.style.display =\n",
              "          google.colab.kernel.accessAllowed ? 'block' : 'none';\n",
              "\n",
              "        async function convertToInteractive(key) {\n",
              "          const element = document.querySelector('#df-f88d8237-d57b-4dd1-82a4-0ecf2b71a08b');\n",
              "          const dataTable =\n",
              "            await google.colab.kernel.invokeFunction('convertToInteractive',\n",
              "                                                     [key], {});\n",
              "          if (!dataTable) return;\n",
              "\n",
              "          const docLinkHtml = 'Like what you see? Visit the ' +\n",
              "            '<a target=\"_blank\" href=https://colab.research.google.com/notebooks/data_table.ipynb>data table notebook</a>'\n",
              "            + ' to learn more about interactive tables.';\n",
              "          element.innerHTML = '';\n",
              "          dataTable['output_type'] = 'display_data';\n",
              "          await google.colab.output.renderOutput(dataTable, element);\n",
              "          const docLink = document.createElement('div');\n",
              "          docLink.innerHTML = docLinkHtml;\n",
              "          element.appendChild(docLink);\n",
              "        }\n",
              "      </script>\n",
              "    </div>\n",
              "  </div>\n",
              "  "
            ]
          },
          "metadata": {},
          "execution_count": 63
        }
      ],
      "source": [
        "train_data = pd.read_csv('data/train.csv', sep=',')\n",
        "train_data.tail(7)"
      ]
    },
    {
      "cell_type": "code",
      "execution_count": 64,
      "id": "1539f0c9",
      "metadata": {
        "id": "1539f0c9",
        "outputId": "c8622dce-39c4-4cf7-84d1-b74c4c17b170",
        "colab": {
          "base_uri": "https://localhost:8080/"
        }
      },
      "outputs": [
        {
          "output_type": "execute_result",
          "data": {
            "text/plain": [
              "(99999, 10)"
            ]
          },
          "metadata": {},
          "execution_count": 64
        }
      ],
      "source": [
        " train_data.shape"
      ]
    },
    {
      "cell_type": "markdown",
      "source": [
        "Таким образом, в наших данных содержится информация о 99_999 пользователях, и их описывают 10 признаков.\n",
        "\n"
      ],
      "metadata": {
        "id": "I6IHWZn0uwBb"
      },
      "id": "I6IHWZn0uwBb"
    },
    {
      "cell_type": "code",
      "execution_count": 65,
      "id": "5492ba91",
      "metadata": {
        "id": "5492ba91",
        "outputId": "86c7d9d0-a83d-49a8-d692-e91d7d5b6626",
        "colab": {
          "base_uri": "https://localhost:8080/"
        }
      },
      "outputs": [
        {
          "output_type": "execute_result",
          "data": {
            "text/plain": [
              "Index                                 128\n",
              "row_id                             799992\n",
              "timestamp                          799992\n",
              "user_id                            799992\n",
              "content_id                         799992\n",
              "content_type_id                    799992\n",
              "task_container_id                  799992\n",
              "user_answer                        799992\n",
              "answered_correctly                 799992\n",
              "prior_question_elapsed_time        799992\n",
              "prior_question_had_explanation    3561360\n",
              "dtype: int64"
            ]
          },
          "metadata": {},
          "execution_count": 65
        }
      ],
      "source": [
        "train_data.memory_usage(deep=True)"
      ]
    },
    {
      "cell_type": "code",
      "execution_count": 66,
      "id": "5383749d",
      "metadata": {
        "id": "5383749d",
        "outputId": "417d0c82-520c-4806-9d48-dab73cb76f50",
        "colab": {
          "base_uri": "https://localhost:8080/"
        }
      },
      "outputs": [
        {
          "output_type": "stream",
          "name": "stdout",
          "text": [
            "<class 'pandas.core.frame.DataFrame'>\n",
            "RangeIndex: 99999 entries, 0 to 99998\n",
            "Data columns (total 10 columns):\n",
            " #   Column                          Non-Null Count  Dtype  \n",
            "---  ------                          --------------  -----  \n",
            " 0   row_id                          99999 non-null  int64  \n",
            " 1   timestamp                       99999 non-null  int64  \n",
            " 2   user_id                         99999 non-null  int64  \n",
            " 3   content_id                      99999 non-null  int64  \n",
            " 4   content_type_id                 99999 non-null  int64  \n",
            " 5   task_container_id               99999 non-null  int64  \n",
            " 6   user_answer                     99999 non-null  int64  \n",
            " 7   answered_correctly              99999 non-null  int64  \n",
            " 8   prior_question_elapsed_time     97833 non-null  float64\n",
            " 9   prior_question_had_explanation  99651 non-null  object \n",
            "dtypes: float64(1), int64(8), object(1)\n",
            "memory usage: 7.6+ MB\n"
          ]
        }
      ],
      "source": [
        "train_data.info()"
      ]
    },
    {
      "cell_type": "markdown",
      "source": [
        "Мы видим, что \"prior_question_had_explanation\" является объектом и занимает много памяти, в то время как он должен быть логическим."
      ],
      "metadata": {
        "id": "TQQGr_2Yu1eB"
      },
      "id": "TQQGr_2Yu1eB"
    },
    {
      "cell_type": "markdown",
      "source": [
        "Исправим это:"
      ],
      "metadata": {
        "id": "T3K8uBJpu94c"
      },
      "id": "T3K8uBJpu94c"
    },
    {
      "cell_type": "code",
      "execution_count": 67,
      "id": "6112367e",
      "metadata": {
        "id": "6112367e",
        "outputId": "f35646f4-620c-4ee6-ee9b-923ebfd4862f",
        "colab": {
          "base_uri": "https://localhost:8080/"
        }
      },
      "outputs": [
        {
          "output_type": "execute_result",
          "data": {
            "text/plain": [
              "Index                                128\n",
              "row_id                            799992\n",
              "timestamp                         799992\n",
              "user_id                           799992\n",
              "content_id                        799992\n",
              "content_type_id                   799992\n",
              "task_container_id                 799992\n",
              "user_answer                       799992\n",
              "answered_correctly                799992\n",
              "prior_question_elapsed_time       799992\n",
              "prior_question_had_explanation    199998\n",
              "dtype: int64"
            ]
          },
          "metadata": {},
          "execution_count": 67
        }
      ],
      "source": [
        "train_data['prior_question_had_explanation'] = train_data['prior_question_had_explanation'].astype('boolean')\n",
        "train_data.memory_usage(deep=True)"
      ]
    },
    {
      "cell_type": "code",
      "execution_count": 68,
      "id": "2fa19da0",
      "metadata": {
        "id": "2fa19da0",
        "outputId": "164cb30a-62cb-46e8-aef1-246051b236c4",
        "colab": {
          "base_uri": "https://localhost:8080/",
          "height": 584
        }
      },
      "outputs": [
        {
          "output_type": "execute_result",
          "data": {
            "text/plain": [
              "    row_id  timestamp  user_id  content_id  content_type_id  \\\n",
              "0        0          0      115        5692                0   \n",
              "1        1      56943      115        5716                0   \n",
              "2        2     118363      115         128                0   \n",
              "3        3     131167      115        7860                0   \n",
              "4        4     137965      115        7922                0   \n",
              "5        5     157063      115         156                0   \n",
              "6        6     176092      115          51                0   \n",
              "7        7     194190      115          50                0   \n",
              "8        8     212463      115        7896                0   \n",
              "9        9     230983      115        7863                0   \n",
              "10      10     255381      115         152                0   \n",
              "11      11     280033      115         104                0   \n",
              "12      12     302994      115         108                0   \n",
              "13      13     328686      115        7900                0   \n",
              "14      14     352686      115        7901                0   \n",
              "\n",
              "    task_container_id  user_answer  answered_correctly  \\\n",
              "0                   1            3                   1   \n",
              "1                   2            2                   1   \n",
              "2                   0            0                   1   \n",
              "3                   3            0                   1   \n",
              "4                   4            1                   1   \n",
              "5                   5            2                   1   \n",
              "6                   6            0                   1   \n",
              "7                   7            3                   1   \n",
              "8                   8            2                   1   \n",
              "9                   9            0                   1   \n",
              "10                 10            2                   0   \n",
              "11                 11            1                   0   \n",
              "12                 12            1                   0   \n",
              "13                 13            0                   1   \n",
              "14                 14            1                   1   \n",
              "\n",
              "    prior_question_elapsed_time  prior_question_had_explanation  \n",
              "0                           NaN                            <NA>  \n",
              "1                       37000.0                           False  \n",
              "2                       55000.0                           False  \n",
              "3                       19000.0                           False  \n",
              "4                       11000.0                           False  \n",
              "5                        5000.0                           False  \n",
              "6                       17000.0                           False  \n",
              "7                       17000.0                           False  \n",
              "8                       16000.0                           False  \n",
              "9                       16000.0                           False  \n",
              "10                      17000.0                           False  \n",
              "11                      22000.0                           False  \n",
              "12                      23000.0                           False  \n",
              "13                      21000.0                           False  \n",
              "14                      24000.0                           False  "
            ],
            "text/html": [
              "\n",
              "  <div id=\"df-fde1785e-4ab9-4bf8-9f8f-4a77f5d7c14f\">\n",
              "    <div class=\"colab-df-container\">\n",
              "      <div>\n",
              "<style scoped>\n",
              "    .dataframe tbody tr th:only-of-type {\n",
              "        vertical-align: middle;\n",
              "    }\n",
              "\n",
              "    .dataframe tbody tr th {\n",
              "        vertical-align: top;\n",
              "    }\n",
              "\n",
              "    .dataframe thead th {\n",
              "        text-align: right;\n",
              "    }\n",
              "</style>\n",
              "<table border=\"1\" class=\"dataframe\">\n",
              "  <thead>\n",
              "    <tr style=\"text-align: right;\">\n",
              "      <th></th>\n",
              "      <th>row_id</th>\n",
              "      <th>timestamp</th>\n",
              "      <th>user_id</th>\n",
              "      <th>content_id</th>\n",
              "      <th>content_type_id</th>\n",
              "      <th>task_container_id</th>\n",
              "      <th>user_answer</th>\n",
              "      <th>answered_correctly</th>\n",
              "      <th>prior_question_elapsed_time</th>\n",
              "      <th>prior_question_had_explanation</th>\n",
              "    </tr>\n",
              "  </thead>\n",
              "  <tbody>\n",
              "    <tr>\n",
              "      <th>0</th>\n",
              "      <td>0</td>\n",
              "      <td>0</td>\n",
              "      <td>115</td>\n",
              "      <td>5692</td>\n",
              "      <td>0</td>\n",
              "      <td>1</td>\n",
              "      <td>3</td>\n",
              "      <td>1</td>\n",
              "      <td>NaN</td>\n",
              "      <td>&lt;NA&gt;</td>\n",
              "    </tr>\n",
              "    <tr>\n",
              "      <th>1</th>\n",
              "      <td>1</td>\n",
              "      <td>56943</td>\n",
              "      <td>115</td>\n",
              "      <td>5716</td>\n",
              "      <td>0</td>\n",
              "      <td>2</td>\n",
              "      <td>2</td>\n",
              "      <td>1</td>\n",
              "      <td>37000.0</td>\n",
              "      <td>False</td>\n",
              "    </tr>\n",
              "    <tr>\n",
              "      <th>2</th>\n",
              "      <td>2</td>\n",
              "      <td>118363</td>\n",
              "      <td>115</td>\n",
              "      <td>128</td>\n",
              "      <td>0</td>\n",
              "      <td>0</td>\n",
              "      <td>0</td>\n",
              "      <td>1</td>\n",
              "      <td>55000.0</td>\n",
              "      <td>False</td>\n",
              "    </tr>\n",
              "    <tr>\n",
              "      <th>3</th>\n",
              "      <td>3</td>\n",
              "      <td>131167</td>\n",
              "      <td>115</td>\n",
              "      <td>7860</td>\n",
              "      <td>0</td>\n",
              "      <td>3</td>\n",
              "      <td>0</td>\n",
              "      <td>1</td>\n",
              "      <td>19000.0</td>\n",
              "      <td>False</td>\n",
              "    </tr>\n",
              "    <tr>\n",
              "      <th>4</th>\n",
              "      <td>4</td>\n",
              "      <td>137965</td>\n",
              "      <td>115</td>\n",
              "      <td>7922</td>\n",
              "      <td>0</td>\n",
              "      <td>4</td>\n",
              "      <td>1</td>\n",
              "      <td>1</td>\n",
              "      <td>11000.0</td>\n",
              "      <td>False</td>\n",
              "    </tr>\n",
              "    <tr>\n",
              "      <th>5</th>\n",
              "      <td>5</td>\n",
              "      <td>157063</td>\n",
              "      <td>115</td>\n",
              "      <td>156</td>\n",
              "      <td>0</td>\n",
              "      <td>5</td>\n",
              "      <td>2</td>\n",
              "      <td>1</td>\n",
              "      <td>5000.0</td>\n",
              "      <td>False</td>\n",
              "    </tr>\n",
              "    <tr>\n",
              "      <th>6</th>\n",
              "      <td>6</td>\n",
              "      <td>176092</td>\n",
              "      <td>115</td>\n",
              "      <td>51</td>\n",
              "      <td>0</td>\n",
              "      <td>6</td>\n",
              "      <td>0</td>\n",
              "      <td>1</td>\n",
              "      <td>17000.0</td>\n",
              "      <td>False</td>\n",
              "    </tr>\n",
              "    <tr>\n",
              "      <th>7</th>\n",
              "      <td>7</td>\n",
              "      <td>194190</td>\n",
              "      <td>115</td>\n",
              "      <td>50</td>\n",
              "      <td>0</td>\n",
              "      <td>7</td>\n",
              "      <td>3</td>\n",
              "      <td>1</td>\n",
              "      <td>17000.0</td>\n",
              "      <td>False</td>\n",
              "    </tr>\n",
              "    <tr>\n",
              "      <th>8</th>\n",
              "      <td>8</td>\n",
              "      <td>212463</td>\n",
              "      <td>115</td>\n",
              "      <td>7896</td>\n",
              "      <td>0</td>\n",
              "      <td>8</td>\n",
              "      <td>2</td>\n",
              "      <td>1</td>\n",
              "      <td>16000.0</td>\n",
              "      <td>False</td>\n",
              "    </tr>\n",
              "    <tr>\n",
              "      <th>9</th>\n",
              "      <td>9</td>\n",
              "      <td>230983</td>\n",
              "      <td>115</td>\n",
              "      <td>7863</td>\n",
              "      <td>0</td>\n",
              "      <td>9</td>\n",
              "      <td>0</td>\n",
              "      <td>1</td>\n",
              "      <td>16000.0</td>\n",
              "      <td>False</td>\n",
              "    </tr>\n",
              "    <tr>\n",
              "      <th>10</th>\n",
              "      <td>10</td>\n",
              "      <td>255381</td>\n",
              "      <td>115</td>\n",
              "      <td>152</td>\n",
              "      <td>0</td>\n",
              "      <td>10</td>\n",
              "      <td>2</td>\n",
              "      <td>0</td>\n",
              "      <td>17000.0</td>\n",
              "      <td>False</td>\n",
              "    </tr>\n",
              "    <tr>\n",
              "      <th>11</th>\n",
              "      <td>11</td>\n",
              "      <td>280033</td>\n",
              "      <td>115</td>\n",
              "      <td>104</td>\n",
              "      <td>0</td>\n",
              "      <td>11</td>\n",
              "      <td>1</td>\n",
              "      <td>0</td>\n",
              "      <td>22000.0</td>\n",
              "      <td>False</td>\n",
              "    </tr>\n",
              "    <tr>\n",
              "      <th>12</th>\n",
              "      <td>12</td>\n",
              "      <td>302994</td>\n",
              "      <td>115</td>\n",
              "      <td>108</td>\n",
              "      <td>0</td>\n",
              "      <td>12</td>\n",
              "      <td>1</td>\n",
              "      <td>0</td>\n",
              "      <td>23000.0</td>\n",
              "      <td>False</td>\n",
              "    </tr>\n",
              "    <tr>\n",
              "      <th>13</th>\n",
              "      <td>13</td>\n",
              "      <td>328686</td>\n",
              "      <td>115</td>\n",
              "      <td>7900</td>\n",
              "      <td>0</td>\n",
              "      <td>13</td>\n",
              "      <td>0</td>\n",
              "      <td>1</td>\n",
              "      <td>21000.0</td>\n",
              "      <td>False</td>\n",
              "    </tr>\n",
              "    <tr>\n",
              "      <th>14</th>\n",
              "      <td>14</td>\n",
              "      <td>352686</td>\n",
              "      <td>115</td>\n",
              "      <td>7901</td>\n",
              "      <td>0</td>\n",
              "      <td>14</td>\n",
              "      <td>1</td>\n",
              "      <td>1</td>\n",
              "      <td>24000.0</td>\n",
              "      <td>False</td>\n",
              "    </tr>\n",
              "  </tbody>\n",
              "</table>\n",
              "</div>\n",
              "      <button class=\"colab-df-convert\" onclick=\"convertToInteractive('df-fde1785e-4ab9-4bf8-9f8f-4a77f5d7c14f')\"\n",
              "              title=\"Convert this dataframe to an interactive table.\"\n",
              "              style=\"display:none;\">\n",
              "        \n",
              "  <svg xmlns=\"http://www.w3.org/2000/svg\" height=\"24px\"viewBox=\"0 0 24 24\"\n",
              "       width=\"24px\">\n",
              "    <path d=\"M0 0h24v24H0V0z\" fill=\"none\"/>\n",
              "    <path d=\"M18.56 5.44l.94 2.06.94-2.06 2.06-.94-2.06-.94-.94-2.06-.94 2.06-2.06.94zm-11 1L8.5 8.5l.94-2.06 2.06-.94-2.06-.94L8.5 2.5l-.94 2.06-2.06.94zm10 10l.94 2.06.94-2.06 2.06-.94-2.06-.94-.94-2.06-.94 2.06-2.06.94z\"/><path d=\"M17.41 7.96l-1.37-1.37c-.4-.4-.92-.59-1.43-.59-.52 0-1.04.2-1.43.59L10.3 9.45l-7.72 7.72c-.78.78-.78 2.05 0 2.83L4 21.41c.39.39.9.59 1.41.59.51 0 1.02-.2 1.41-.59l7.78-7.78 2.81-2.81c.8-.78.8-2.07 0-2.86zM5.41 20L4 18.59l7.72-7.72 1.47 1.35L5.41 20z\"/>\n",
              "  </svg>\n",
              "      </button>\n",
              "      \n",
              "  <style>\n",
              "    .colab-df-container {\n",
              "      display:flex;\n",
              "      flex-wrap:wrap;\n",
              "      gap: 12px;\n",
              "    }\n",
              "\n",
              "    .colab-df-convert {\n",
              "      background-color: #E8F0FE;\n",
              "      border: none;\n",
              "      border-radius: 50%;\n",
              "      cursor: pointer;\n",
              "      display: none;\n",
              "      fill: #1967D2;\n",
              "      height: 32px;\n",
              "      padding: 0 0 0 0;\n",
              "      width: 32px;\n",
              "    }\n",
              "\n",
              "    .colab-df-convert:hover {\n",
              "      background-color: #E2EBFA;\n",
              "      box-shadow: 0px 1px 2px rgba(60, 64, 67, 0.3), 0px 1px 3px 1px rgba(60, 64, 67, 0.15);\n",
              "      fill: #174EA6;\n",
              "    }\n",
              "\n",
              "    [theme=dark] .colab-df-convert {\n",
              "      background-color: #3B4455;\n",
              "      fill: #D2E3FC;\n",
              "    }\n",
              "\n",
              "    [theme=dark] .colab-df-convert:hover {\n",
              "      background-color: #434B5C;\n",
              "      box-shadow: 0px 1px 3px 1px rgba(0, 0, 0, 0.15);\n",
              "      filter: drop-shadow(0px 1px 2px rgba(0, 0, 0, 0.3));\n",
              "      fill: #FFFFFF;\n",
              "    }\n",
              "  </style>\n",
              "\n",
              "      <script>\n",
              "        const buttonEl =\n",
              "          document.querySelector('#df-fde1785e-4ab9-4bf8-9f8f-4a77f5d7c14f button.colab-df-convert');\n",
              "        buttonEl.style.display =\n",
              "          google.colab.kernel.accessAllowed ? 'block' : 'none';\n",
              "\n",
              "        async function convertToInteractive(key) {\n",
              "          const element = document.querySelector('#df-fde1785e-4ab9-4bf8-9f8f-4a77f5d7c14f');\n",
              "          const dataTable =\n",
              "            await google.colab.kernel.invokeFunction('convertToInteractive',\n",
              "                                                     [key], {});\n",
              "          if (!dataTable) return;\n",
              "\n",
              "          const docLinkHtml = 'Like what you see? Visit the ' +\n",
              "            '<a target=\"_blank\" href=https://colab.research.google.com/notebooks/data_table.ipynb>data table notebook</a>'\n",
              "            + ' to learn more about interactive tables.';\n",
              "          element.innerHTML = '';\n",
              "          dataTable['output_type'] = 'display_data';\n",
              "          await google.colab.output.renderOutput(dataTable, element);\n",
              "          const docLink = document.createElement('div');\n",
              "          docLink.innerHTML = docLinkHtml;\n",
              "          element.appendChild(docLink);\n",
              "        }\n",
              "      </script>\n",
              "    </div>\n",
              "  </div>\n",
              "  "
            ]
          },
          "metadata": {},
          "execution_count": 68
        }
      ],
      "source": [
        "train_data.head(15) #посмотрим на таблицу"
      ]
    },
    {
      "cell_type": "markdown",
      "source": [
        "Content_type_id = False означает, что был задан вопрос. True означает, что пользователь смотрел лекцию."
      ],
      "metadata": {
        "id": "MREFXYy1vFjf"
      },
      "id": "MREFXYy1vFjf"
    },
    {
      "cell_type": "code",
      "execution_count": 69,
      "id": "942a97bc",
      "metadata": {
        "id": "942a97bc",
        "outputId": "b9ddab4c-beeb-4207-815f-c2994136de19",
        "colab": {
          "base_uri": "https://localhost:8080/"
        }
      },
      "outputs": [
        {
          "output_type": "stream",
          "name": "stdout",
          "text": [
            "У нас 349 уникальных пользователей в train dataset\n"
          ]
        }
      ],
      "source": [
        "print(f'У нас {train_data.user_id.nunique()} уникальных пользователей в train dataset')"
      ]
    },
    {
      "cell_type": "code",
      "execution_count": 70,
      "id": "36f033ec",
      "metadata": {
        "id": "36f033ec",
        "outputId": "46c2c4ab-15d2-4db9-ef6e-dd221d212534",
        "colab": {
          "base_uri": "https://localhost:8080/"
        }
      },
      "outputs": [
        {
          "output_type": "stream",
          "name": "stdout",
          "text": [
            "Часть пропущенных значений для каждого столбца\n",
            "row_id                            0.00000\n",
            "timestamp                         0.00000\n",
            "user_id                           0.00000\n",
            "content_id                        0.00000\n",
            "content_type_id                   0.00000\n",
            "task_container_id                 0.00000\n",
            "user_answer                       0.00000\n",
            "answered_correctly                0.00000\n",
            "prior_question_elapsed_time       0.02166\n",
            "prior_question_had_explanation    0.00348\n",
            "dtype: float64\n"
          ]
        }
      ],
      "source": [
        "print('Часть пропущенных значений для каждого столбца')\n",
        "print(train_data.isnull().sum() / len(train_data))"
      ]
    },
    {
      "cell_type": "code",
      "execution_count": 71,
      "id": "7cbe487a",
      "metadata": {
        "id": "7cbe487a",
        "outputId": "6be5b304-cf55-4adf-b203-cfc1f3d20e3f",
        "colab": {
          "base_uri": "https://localhost:8080/"
        }
      },
      "outputs": [
        {
          "output_type": "execute_result",
          "data": {
            "text/plain": [
              "0    98181\n",
              "1     1818\n",
              "Name: content_type_id, dtype: int64"
            ]
          },
          "metadata": {},
          "execution_count": 71
        }
      ],
      "source": [
        "train_data.content_type_id.value_counts()"
      ]
    },
    {
      "cell_type": "markdown",
      "source": [
        "Content_id — это код взаимодействия с пользователем. По сути, это вопросы, если content_type — вопрос \n",
        "(question_id: внешний ключ для столбца train/test content_id, когда тип контента — вопрос)."
      ],
      "metadata": {
        "id": "f89h8xeuvMzb"
      },
      "id": "f89h8xeuvMzb"
    },
    {
      "cell_type": "code",
      "execution_count": 72,
      "id": "a3a7f0c2",
      "metadata": {
        "id": "a3a7f0c2",
        "outputId": "cfcbf751-604a-49f8-df7a-a2b253913803",
        "colab": {
          "base_uri": "https://localhost:8080/"
        }
      },
      "outputs": [
        {
          "output_type": "stream",
          "name": "stdout",
          "text": [
            "У нас 11532 content ids в нашем train set, из которых 11321 - вопросы.\n"
          ]
        }
      ],
      "source": [
        "print(f'У нас {train_data.content_id.nunique()} content ids в нашем train set, из которых {train_data[train_data.content_type_id == False].content_id.nunique()} - вопросы.')"
      ]
    },
    {
      "cell_type": "code",
      "execution_count": 73,
      "id": "4a73a210",
      "metadata": {
        "id": "4a73a210",
        "outputId": "e9942b3b-f0c6-463b-a919-5d26a65a7fc5",
        "colab": {
          "base_uri": "https://localhost:8080/"
        }
      },
      "outputs": [
        {
          "output_type": "stream",
          "name": "stdout",
          "text": [
            "У нас есть 5631 никальных Пакетов вопросов или лекций.\n"
          ]
        }
      ],
      "source": [
        "print(f'У нас есть {train_data.task_container_id.nunique()} никальных Пакетов вопросов или лекций.')"
      ]
    },
    {
      "cell_type": "code",
      "execution_count": 74,
      "id": "2073e8f3",
      "metadata": {
        "id": "2073e8f3",
        "outputId": "f79fb3c7-ba82-4df1-f348-dfc36edcb0e3",
        "colab": {
          "base_uri": "https://localhost:8080/"
        }
      },
      "outputs": [
        {
          "output_type": "execute_result",
          "data": {
            "text/plain": [
              " 0    27925\n",
              " 1    26492\n",
              " 3    26044\n",
              " 2    17720\n",
              "-1     1818\n",
              "Name: user_answer, dtype: int64"
            ]
          },
          "metadata": {},
          "execution_count": 74
        }
      ],
      "source": [
        "train_data.user_answer.value_counts()"
      ]
    },
    {
      "cell_type": "markdown",
      "source": [
        "Кажется, что вопросы подразумевают множественность выбора (ответы 0-3). Как упоминалось в описании данных, \n",
        "-1 на самом деле означает отсутствие ответа (поскольку взаимодействие было лекцией, а не вопросом)."
      ],
      "metadata": {
        "id": "vF82nFzJvZLA"
      },
      "id": "vF82nFzJvZLA"
    },
    {
      "cell_type": "code",
      "execution_count": 75,
      "id": "85c40ca5",
      "metadata": {
        "id": "85c40ca5",
        "outputId": "1b441711-7df4-4fe7-aadc-b59641d84d71",
        "colab": {
          "base_uri": "https://localhost:8080/"
        }
      },
      "outputs": [
        {
          "output_type": "stream",
          "name": "stdout",
          "text": [
            "Из 349 пользователей в train у нас 349 пользователей с нулевой строкой timestamp.\n"
          ]
        }
      ],
      "source": [
        "print(f'Из {train_data.user_id.nunique()} пользователей в train у нас {train_data[train_data.timestamp == 0].user_id.nunique()} пользователей с нулевой строкой timestamp.')"
      ]
    },
    {
      "cell_type": "markdown",
      "source": [
        "timestamp: (int64) время в миллисекундах между этим взаимодействием с пользователем и первым завершением события \n",
        "от этого пользователя."
      ],
      "metadata": {
        "id": "t2nfC8ERvdH9"
      },
      "id": "t2nfC8ERvdH9"
    },
    {
      "cell_type": "code",
      "execution_count": 76,
      "id": "169cc14c",
      "metadata": {
        "id": "169cc14c"
      },
      "outputs": [],
      "source": [
        "correct = train_data[train_data.answered_correctly != -1].answered_correctly.value_counts(ascending=True)"
      ]
    },
    {
      "cell_type": "code",
      "execution_count": 77,
      "id": "d37adbd4",
      "metadata": {
        "id": "d37adbd4",
        "outputId": "649c0b77-6fd7-47a5-d10e-8a85b60718c3",
        "colab": {
          "base_uri": "https://localhost:8080/",
          "height": 391
        }
      },
      "outputs": [
        {
          "output_type": "display_data",
          "data": {
            "text/plain": [
              "<Figure size 864x432 with 1 Axes>"
            ],
            "image/png": "[encoded data removed]"
          },
          "metadata": {
            "needs_background": "light"
          }
        }
      ],
      "source": [
        "import matplotlib.pyplot as plt\n",
        "import numpy as np\n",
        "\n",
        "bin_labels_5 = ['Bin_1', 'Bin_2', 'Bin_3', 'Bin_4', 'Bin_5']\n",
        "train_data['ts_bin'] = pd.qcut(train_data['timestamp'], q=5, labels=bin_labels_5)\n",
        "\n",
        "#сделаем функцию, которую также можно использовать для других полей\n",
        "def correct(field):\n",
        "    correct = train_data[train_data.answered_correctly != -1].groupby([field, 'answered_correctly'], as_index=False).size()\n",
        "    correct = correct.pivot(index= field, columns='answered_correctly', values='size')\n",
        "    correct['Percent_correct'] = round(correct.iloc[:,1]/(correct.iloc[:,0] + correct.iloc[:,1]),2)\n",
        "    correct = correct.sort_values(by = \"Percent_correct\", ascending = False)\n",
        "    correct = correct.iloc[:,2]\n",
        "    return(correct)\n",
        "\n",
        "bins_correct = correct(\"ts_bin\")\n",
        "bins_correct = bins_correct.sort_index()\n",
        "\n",
        "fig = plt.figure(figsize=(12,6))\n",
        "plt.bar(bins_correct.index, bins_correct.values)\n",
        "for i, v in zip(bins_correct.index, bins_correct.values):\n",
        "    plt.text(i, v, v, color='white', fontweight='bold', fontsize=14, va='top', ha='center')\n",
        "plt.title(\"Процент ответов_правильно для 5 ячеек временной метки\")\n",
        "plt.xticks(rotation=0)\n",
        "plt.show()"
      ]
    },
    {
      "cell_type": "code",
      "execution_count": 78,
      "id": "49f97927",
      "metadata": {
        "id": "49f97927",
        "outputId": "38742268-fd67-4c5f-c963-a07eba940209",
        "colab": {
          "base_uri": "https://localhost:8080/",
          "height": 281
        }
      },
      "outputs": [
        {
          "output_type": "display_data",
          "data": {
            "text/plain": [
              "<Figure size 864x288 with 1 Axes>"
            ],
            "image/png": "[encoded data removed]"
          },
          "metadata": {
            "needs_background": "light"
          }
        }
      ],
      "source": [
        "\n",
        "\n",
        "correct = train_data[train_data.answered_correctly != -1].answered_correctly.value_counts(ascending=True)\n",
        "\n",
        "fig = plt.figure(figsize=(12,4))\n",
        "correct.plot.barh()\n",
        "for i, v in zip(correct.index, correct.values):\n",
        "    plt.text(v, i, '{:,}'.format(v), color='white', fontweight='bold', fontsize=14, ha='right', va='center')\n",
        "plt.title(\"Верно отвеченные вопросы\")\n",
        "plt.xticks(rotation=0)\n",
        "plt.show()\n",
        "\n"
      ]
    },
    {
      "cell_type": "markdown",
      "source": [
        "Пользователи, которые зарегистрировались относительно недавно, работают немного хуже, чем пользователи, которые активны дольше."
      ],
      "metadata": {
        "id": "PrBZDbHHvmuw"
      },
      "id": "PrBZDbHHvmuw"
    },
    {
      "cell_type": "code",
      "execution_count": 79,
      "id": "a64943e4",
      "metadata": {
        "id": "a64943e4",
        "outputId": "e1e9598e-6f37-4a04-ad11-f4ebfb0f9bc6",
        "colab": {
          "base_uri": "https://localhost:8080/"
        }
      },
      "outputs": [
        {
          "output_type": "stream",
          "name": "stdout",
          "text": [
            "Наибольшее количество вопросов, на которые ответил пользователь - 7476\n"
          ]
        }
      ],
      "source": [
        "user_percent = train_data[train_data.answered_correctly != -1].groupby('user_id')['answered_correctly'].agg(Mean='mean', Answers='count')\n",
        "print(f'Наибольшее количество вопросов, на которые ответил пользователь - {user_percent.Answers.max()}')"
      ]
    },
    {
      "cell_type": "code",
      "execution_count": 80,
      "id": "de0eb872",
      "metadata": {
        "id": "de0eb872",
        "outputId": "68c0c401-8b19-4d4f-a6e9-f16549185491",
        "colab": {
          "base_uri": "https://localhost:8080/",
          "height": 404
        }
      },
      "outputs": [
        {
          "output_type": "display_data",
          "data": {
            "text/plain": [
              "<Figure size 864x432 with 1 Axes>"
            ],
            "image/png": "[encoded data removed]"
          },
          "metadata": {
            "needs_background": "light"
          }
        }
      ],
      "source": [
        "user_percent = user_percent.query('Answers <= 1000').sample(n=200, random_state=1)\n",
        "\n",
        "fig = plt.figure(figsize=(12,6))\n",
        "x = user_percent.Answers\n",
        "y = user_percent.Mean\n",
        "plt.scatter(x, y, marker='o')\n",
        "plt.title(\"Процент правильных ответов по сравнению с количеством вопросов, на которые ответил пользователь\")\n",
        "plt.xticks(rotation=0)\n",
        "plt.xlabel(\"Количество ответов на вопросы\")\n",
        "plt.ylabel(\"Процент правильных ответов\")\n",
        "z = np.polyfit(x, y, 1)\n",
        "p = np.poly1d(z)\n",
        "plt.plot(x,p(x),\"r--\")\n",
        "\n",
        "plt.show()"
      ]
    },
    {
      "cell_type": "code",
      "execution_count": 81,
      "id": "fb3480d0",
      "metadata": {
        "id": "fb3480d0",
        "outputId": "b444e6b1-563a-4ffe-8ddf-9460f5e6817d",
        "colab": {
          "base_uri": "https://localhost:8080/"
        }
      },
      "outputs": [
        {
          "output_type": "stream",
          "name": "stdout",
          "text": [
            "Часть пропущенных значений для каждого столбца\n",
            "row_id                            0.00000\n",
            "timestamp                         0.00000\n",
            "user_id                           0.00000\n",
            "content_id                        0.00000\n",
            "content_type_id                   0.00000\n",
            "task_container_id                 0.00000\n",
            "user_answer                       0.00000\n",
            "answered_correctly                0.00000\n",
            "prior_question_elapsed_time       0.02166\n",
            "prior_question_had_explanation    0.00348\n",
            "ts_bin                            0.00000\n",
            "dtype: float64\n"
          ]
        }
      ],
      "source": [
        "print('Часть пропущенных значений для каждого столбца')\n",
        "print(train_data.isnull().sum() / len(train_data))"
      ]
    },
    {
      "cell_type": "code",
      "execution_count": 82,
      "id": "b953991d",
      "metadata": {
        "id": "b953991d",
        "outputId": "6d58f72c-9065-469d-abd1-f147f6415d58",
        "colab": {
          "base_uri": "https://localhost:8080/",
          "height": 384
        }
      },
      "outputs": [
        {
          "output_type": "stream",
          "name": "stdout",
          "text": [
            "prior_question_had_explanation\n",
            "False     7485\n",
            "True     90348\n",
            "NaN        348\n",
            "Name: (answered_correctly, count), dtype: int64\n"
          ]
        },
        {
          "output_type": "display_data",
          "data": {
            "text/plain": [
              "<Figure size 864x288 with 1 Axes>"
            ],
            "image/png": "[encoded data removed]"
          },
          "metadata": {
            "needs_background": "light"
          }
        }
      ],
      "source": [
        "pq = train_data[train_data.answered_correctly != -1].groupby(['prior_question_had_explanation'], dropna=False).agg({'answered_correctly': ['mean', 'count']})\n",
        "#pq.index = pq.index.astype(str)\n",
        "print(pq.iloc[:,1])\n",
        "pq = pq.iloc[:,0]\n",
        "\n",
        "fig = plt.figure(figsize=(12,4))\n",
        "pq.plot.barh()\n",
        "# for i, v in zip(pq.index, pq.values):\n",
        "#     plt.text(v, i, round(v,2), color='white', fontweight='bold', fontsize=14, ha='right', va='center')\n",
        "plt.title(\"Answered_correctly по сравнению с Prior Question had explanation\")\n",
        "plt.xlabel(\"Percent answered correctly\")\n",
        "plt.ylabel(\"Prior question had explanation\")\n",
        "plt.xticks(rotation=0)\n",
        "plt.show()\n"
      ]
    },
    {
      "cell_type": "markdown",
      "source": [
        "Процент правильных ответов для пропущенных значений ближе к True, чем к False."
      ],
      "metadata": {
        "id": "QZd_MMoMvwgx"
      },
      "id": "QZd_MMoMvwgx"
    },
    {
      "cell_type": "code",
      "execution_count": 83,
      "id": "e4030398",
      "metadata": {
        "id": "e4030398",
        "outputId": "7ed750cd-d598-4d04-d258-629c912c5a38",
        "colab": {
          "base_uri": "https://localhost:8080/",
          "height": 175
        }
      },
      "outputs": [
        {
          "output_type": "execute_result",
          "data": {
            "text/plain": [
              "                   answered_correctly prior_question_elapsed_time\n",
              "                                count                        mean\n",
              "answered_correctly                                               \n",
              "0                               30856                24858.327260\n",
              "1                               67325                24650.048749"
            ],
            "text/html": [
              "\n",
              "  <div id=\"df-452716a8-dce0-461a-a51d-634ca7f99f7f\">\n",
              "    <div class=\"colab-df-container\">\n",
              "      <div>\n",
              "<style scoped>\n",
              "    .dataframe tbody tr th:only-of-type {\n",
              "        vertical-align: middle;\n",
              "    }\n",
              "\n",
              "    .dataframe tbody tr th {\n",
              "        vertical-align: top;\n",
              "    }\n",
              "\n",
              "    .dataframe thead tr th {\n",
              "        text-align: left;\n",
              "    }\n",
              "\n",
              "    .dataframe thead tr:last-of-type th {\n",
              "        text-align: right;\n",
              "    }\n",
              "</style>\n",
              "<table border=\"1\" class=\"dataframe\">\n",
              "  <thead>\n",
              "    <tr>\n",
              "      <th></th>\n",
              "      <th>answered_correctly</th>\n",
              "      <th>prior_question_elapsed_time</th>\n",
              "    </tr>\n",
              "    <tr>\n",
              "      <th></th>\n",
              "      <th>count</th>\n",
              "      <th>mean</th>\n",
              "    </tr>\n",
              "    <tr>\n",
              "      <th>answered_correctly</th>\n",
              "      <th></th>\n",
              "      <th></th>\n",
              "    </tr>\n",
              "  </thead>\n",
              "  <tbody>\n",
              "    <tr>\n",
              "      <th>0</th>\n",
              "      <td>30856</td>\n",
              "      <td>24858.327260</td>\n",
              "    </tr>\n",
              "    <tr>\n",
              "      <th>1</th>\n",
              "      <td>67325</td>\n",
              "      <td>24650.048749</td>\n",
              "    </tr>\n",
              "  </tbody>\n",
              "</table>\n",
              "</div>\n",
              "      <button class=\"colab-df-convert\" onclick=\"convertToInteractive('df-452716a8-dce0-461a-a51d-634ca7f99f7f')\"\n",
              "              title=\"Convert this dataframe to an interactive table.\"\n",
              "              style=\"display:none;\">\n",
              "        \n",
              "  <svg xmlns=\"http://www.w3.org/2000/svg\" height=\"24px\"viewBox=\"0 0 24 24\"\n",
              "       width=\"24px\">\n",
              "    <path d=\"M0 0h24v24H0V0z\" fill=\"none\"/>\n",
              "    <path d=\"M18.56 5.44l.94 2.06.94-2.06 2.06-.94-2.06-.94-.94-2.06-.94 2.06-2.06.94zm-11 1L8.5 8.5l.94-2.06 2.06-.94-2.06-.94L8.5 2.5l-.94 2.06-2.06.94zm10 10l.94 2.06.94-2.06 2.06-.94-2.06-.94-.94-2.06-.94 2.06-2.06.94z\"/><path d=\"M17.41 7.96l-1.37-1.37c-.4-.4-.92-.59-1.43-.59-.52 0-1.04.2-1.43.59L10.3 9.45l-7.72 7.72c-.78.78-.78 2.05 0 2.83L4 21.41c.39.39.9.59 1.41.59.51 0 1.02-.2 1.41-.59l7.78-7.78 2.81-2.81c.8-.78.8-2.07 0-2.86zM5.41 20L4 18.59l7.72-7.72 1.47 1.35L5.41 20z\"/>\n",
              "  </svg>\n",
              "      </button>\n",
              "      \n",
              "  <style>\n",
              "    .colab-df-container {\n",
              "      display:flex;\n",
              "      flex-wrap:wrap;\n",
              "      gap: 12px;\n",
              "    }\n",
              "\n",
              "    .colab-df-convert {\n",
              "      background-color: #E8F0FE;\n",
              "      border: none;\n",
              "      border-radius: 50%;\n",
              "      cursor: pointer;\n",
              "      display: none;\n",
              "      fill: #1967D2;\n",
              "      height: 32px;\n",
              "      padding: 0 0 0 0;\n",
              "      width: 32px;\n",
              "    }\n",
              "\n",
              "    .colab-df-convert:hover {\n",
              "      background-color: #E2EBFA;\n",
              "      box-shadow: 0px 1px 2px rgba(60, 64, 67, 0.3), 0px 1px 3px 1px rgba(60, 64, 67, 0.15);\n",
              "      fill: #174EA6;\n",
              "    }\n",
              "\n",
              "    [theme=dark] .colab-df-convert {\n",
              "      background-color: #3B4455;\n",
              "      fill: #D2E3FC;\n",
              "    }\n",
              "\n",
              "    [theme=dark] .colab-df-convert:hover {\n",
              "      background-color: #434B5C;\n",
              "      box-shadow: 0px 1px 3px 1px rgba(0, 0, 0, 0.15);\n",
              "      filter: drop-shadow(0px 1px 2px rgba(0, 0, 0, 0.3));\n",
              "      fill: #FFFFFF;\n",
              "    }\n",
              "  </style>\n",
              "\n",
              "      <script>\n",
              "        const buttonEl =\n",
              "          document.querySelector('#df-452716a8-dce0-461a-a51d-634ca7f99f7f button.colab-df-convert');\n",
              "        buttonEl.style.display =\n",
              "          google.colab.kernel.accessAllowed ? 'block' : 'none';\n",
              "\n",
              "        async function convertToInteractive(key) {\n",
              "          const element = document.querySelector('#df-452716a8-dce0-461a-a51d-634ca7f99f7f');\n",
              "          const dataTable =\n",
              "            await google.colab.kernel.invokeFunction('convertToInteractive',\n",
              "                                                     [key], {});\n",
              "          if (!dataTable) return;\n",
              "\n",
              "          const docLinkHtml = 'Like what you see? Visit the ' +\n",
              "            '<a target=\"_blank\" href=https://colab.research.google.com/notebooks/data_table.ipynb>data table notebook</a>'\n",
              "            + ' to learn more about interactive tables.';\n",
              "          element.innerHTML = '';\n",
              "          dataTable['output_type'] = 'display_data';\n",
              "          await google.colab.output.renderOutput(dataTable, element);\n",
              "          const docLink = document.createElement('div');\n",
              "          docLink.innerHTML = docLinkHtml;\n",
              "          element.appendChild(docLink);\n",
              "        }\n",
              "      </script>\n",
              "    </div>\n",
              "  </div>\n",
              "  "
            ]
          },
          "metadata": {},
          "execution_count": 83
        }
      ],
      "source": [
        "pq = train_data[train_data.answered_correctly != -1]\n",
        "pq = pq[['prior_question_elapsed_time', 'answered_correctly']]\n",
        "pq = pq.groupby(['answered_correctly']).agg({'answered_correctly': ['count'], 'prior_question_elapsed_time': ['mean']})\n",
        "\n",
        "pq"
      ]
    },
    {
      "cell_type": "markdown",
      "source": [
        "Оказалось не очень интересным в отношении нашей цели. Как для неправильных, так и для правильных ответов среднее значение \n",
        "составляет около 25 секунд."
      ],
      "metadata": {
        "id": "2xfG1bLyv53-"
      },
      "id": "2xfG1bLyv53-"
    },
    {
      "cell_type": "markdown",
      "id": "d4f76e56",
      "metadata": {
        "id": "d4f76e56"
      },
      "source": [
        "# Перейдем к questions dataset"
      ]
    },
    {
      "cell_type": "code",
      "execution_count": 84,
      "id": "56bec48d",
      "metadata": {
        "id": "56bec48d",
        "outputId": "f2224273-3d03-4891-d6a6-6b906ffce1eb",
        "colab": {
          "base_uri": "https://localhost:8080/",
          "height": 206
        }
      },
      "outputs": [
        {
          "output_type": "execute_result",
          "data": {
            "text/plain": [
              "   question_id  bundle_id  correct_answer  part            tags\n",
              "0            0          0               0     1   51 131 162 38\n",
              "1            1          1               1     1       131 36 81\n",
              "2            2          2               0     1  131 101 162 92\n",
              "3            3          3               0     1  131 149 162 29\n",
              "4            4          4               3     1    131 5 162 38"
            ],
            "text/html": [
              "\n",
              "  <div id=\"df-046d97c1-bb52-417f-85d0-2d91806ab28a\">\n",
              "    <div class=\"colab-df-container\">\n",
              "      <div>\n",
              "<style scoped>\n",
              "    .dataframe tbody tr th:only-of-type {\n",
              "        vertical-align: middle;\n",
              "    }\n",
              "\n",
              "    .dataframe tbody tr th {\n",
              "        vertical-align: top;\n",
              "    }\n",
              "\n",
              "    .dataframe thead th {\n",
              "        text-align: right;\n",
              "    }\n",
              "</style>\n",
              "<table border=\"1\" class=\"dataframe\">\n",
              "  <thead>\n",
              "    <tr style=\"text-align: right;\">\n",
              "      <th></th>\n",
              "      <th>question_id</th>\n",
              "      <th>bundle_id</th>\n",
              "      <th>correct_answer</th>\n",
              "      <th>part</th>\n",
              "      <th>tags</th>\n",
              "    </tr>\n",
              "  </thead>\n",
              "  <tbody>\n",
              "    <tr>\n",
              "      <th>0</th>\n",
              "      <td>0</td>\n",
              "      <td>0</td>\n",
              "      <td>0</td>\n",
              "      <td>1</td>\n",
              "      <td>51 131 162 38</td>\n",
              "    </tr>\n",
              "    <tr>\n",
              "      <th>1</th>\n",
              "      <td>1</td>\n",
              "      <td>1</td>\n",
              "      <td>1</td>\n",
              "      <td>1</td>\n",
              "      <td>131 36 81</td>\n",
              "    </tr>\n",
              "    <tr>\n",
              "      <th>2</th>\n",
              "      <td>2</td>\n",
              "      <td>2</td>\n",
              "      <td>0</td>\n",
              "      <td>1</td>\n",
              "      <td>131 101 162 92</td>\n",
              "    </tr>\n",
              "    <tr>\n",
              "      <th>3</th>\n",
              "      <td>3</td>\n",
              "      <td>3</td>\n",
              "      <td>0</td>\n",
              "      <td>1</td>\n",
              "      <td>131 149 162 29</td>\n",
              "    </tr>\n",
              "    <tr>\n",
              "      <th>4</th>\n",
              "      <td>4</td>\n",
              "      <td>4</td>\n",
              "      <td>3</td>\n",
              "      <td>1</td>\n",
              "      <td>131 5 162 38</td>\n",
              "    </tr>\n",
              "  </tbody>\n",
              "</table>\n",
              "</div>\n",
              "      <button class=\"colab-df-convert\" onclick=\"convertToInteractive('df-046d97c1-bb52-417f-85d0-2d91806ab28a')\"\n",
              "              title=\"Convert this dataframe to an interactive table.\"\n",
              "              style=\"display:none;\">\n",
              "        \n",
              "  <svg xmlns=\"http://www.w3.org/2000/svg\" height=\"24px\"viewBox=\"0 0 24 24\"\n",
              "       width=\"24px\">\n",
              "    <path d=\"M0 0h24v24H0V0z\" fill=\"none\"/>\n",
              "    <path d=\"M18.56 5.44l.94 2.06.94-2.06 2.06-.94-2.06-.94-.94-2.06-.94 2.06-2.06.94zm-11 1L8.5 8.5l.94-2.06 2.06-.94-2.06-.94L8.5 2.5l-.94 2.06-2.06.94zm10 10l.94 2.06.94-2.06 2.06-.94-2.06-.94-.94-2.06-.94 2.06-2.06.94z\"/><path d=\"M17.41 7.96l-1.37-1.37c-.4-.4-.92-.59-1.43-.59-.52 0-1.04.2-1.43.59L10.3 9.45l-7.72 7.72c-.78.78-.78 2.05 0 2.83L4 21.41c.39.39.9.59 1.41.59.51 0 1.02-.2 1.41-.59l7.78-7.78 2.81-2.81c.8-.78.8-2.07 0-2.86zM5.41 20L4 18.59l7.72-7.72 1.47 1.35L5.41 20z\"/>\n",
              "  </svg>\n",
              "      </button>\n",
              "      \n",
              "  <style>\n",
              "    .colab-df-container {\n",
              "      display:flex;\n",
              "      flex-wrap:wrap;\n",
              "      gap: 12px;\n",
              "    }\n",
              "\n",
              "    .colab-df-convert {\n",
              "      background-color: #E8F0FE;\n",
              "      border: none;\n",
              "      border-radius: 50%;\n",
              "      cursor: pointer;\n",
              "      display: none;\n",
              "      fill: #1967D2;\n",
              "      height: 32px;\n",
              "      padding: 0 0 0 0;\n",
              "      width: 32px;\n",
              "    }\n",
              "\n",
              "    .colab-df-convert:hover {\n",
              "      background-color: #E2EBFA;\n",
              "      box-shadow: 0px 1px 2px rgba(60, 64, 67, 0.3), 0px 1px 3px 1px rgba(60, 64, 67, 0.15);\n",
              "      fill: #174EA6;\n",
              "    }\n",
              "\n",
              "    [theme=dark] .colab-df-convert {\n",
              "      background-color: #3B4455;\n",
              "      fill: #D2E3FC;\n",
              "    }\n",
              "\n",
              "    [theme=dark] .colab-df-convert:hover {\n",
              "      background-color: #434B5C;\n",
              "      box-shadow: 0px 1px 3px 1px rgba(0, 0, 0, 0.15);\n",
              "      filter: drop-shadow(0px 1px 2px rgba(0, 0, 0, 0.3));\n",
              "      fill: #FFFFFF;\n",
              "    }\n",
              "  </style>\n",
              "\n",
              "      <script>\n",
              "        const buttonEl =\n",
              "          document.querySelector('#df-046d97c1-bb52-417f-85d0-2d91806ab28a button.colab-df-convert');\n",
              "        buttonEl.style.display =\n",
              "          google.colab.kernel.accessAllowed ? 'block' : 'none';\n",
              "\n",
              "        async function convertToInteractive(key) {\n",
              "          const element = document.querySelector('#df-046d97c1-bb52-417f-85d0-2d91806ab28a');\n",
              "          const dataTable =\n",
              "            await google.colab.kernel.invokeFunction('convertToInteractive',\n",
              "                                                     [key], {});\n",
              "          if (!dataTable) return;\n",
              "\n",
              "          const docLinkHtml = 'Like what you see? Visit the ' +\n",
              "            '<a target=\"_blank\" href=https://colab.research.google.com/notebooks/data_table.ipynb>data table notebook</a>'\n",
              "            + ' to learn more about interactive tables.';\n",
              "          element.innerHTML = '';\n",
              "          dataTable['output_type'] = 'display_data';\n",
              "          await google.colab.output.renderOutput(dataTable, element);\n",
              "          const docLink = document.createElement('div');\n",
              "          docLink.innerHTML = docLinkHtml;\n",
              "          element.appendChild(docLink);\n",
              "        }\n",
              "      </script>\n",
              "    </div>\n",
              "  </div>\n",
              "  "
            ]
          },
          "metadata": {},
          "execution_count": 84
        }
      ],
      "source": [
        "questions_data = pd.read_csv('data/questions.csv', sep=',')\n",
        "questions_data.head()"
      ]
    },
    {
      "cell_type": "code",
      "execution_count": 85,
      "id": "8f291fce",
      "metadata": {
        "id": "8f291fce",
        "outputId": "bb9fd3a7-2557-47d4-fde1-e717dd689823",
        "colab": {
          "base_uri": "https://localhost:8080/"
        }
      },
      "outputs": [
        {
          "output_type": "execute_result",
          "data": {
            "text/plain": [
              "(13523, 5)"
            ]
          },
          "metadata": {},
          "execution_count": 85
        }
      ],
      "source": [
        "questions_data.shape\n"
      ]
    },
    {
      "cell_type": "markdown",
      "source": [
        "Таким образом, в наших данных содержится информация о 13 523 вопросах, и их описывают 7 признаков (мы уже добавили Wrong и Right)."
      ],
      "metadata": {
        "id": "vy7gLBepv_Uo"
      },
      "id": "vy7gLBepv_Uo"
    },
    {
      "cell_type": "code",
      "execution_count": 86,
      "id": "629f2b5d",
      "metadata": {
        "id": "629f2b5d",
        "outputId": "792db73a-1992-4468-85f1-0f5b310c965a",
        "colab": {
          "base_uri": "https://localhost:8080/"
        }
      },
      "outputs": [
        {
          "output_type": "stream",
          "name": "stdout",
          "text": [
            "Существуют 188 различных тэгов\n"
          ]
        }
      ],
      "source": [
        "questions_data['tags'] = questions_data['tags'].astype(str)\n",
        "\n",
        "tags = [x.split() for x in questions_data[questions_data.tags != \"nan\"].tags.values]\n",
        "tags = [item for elem in tags for item in elem]\n",
        "tags = set(tags)\n",
        "tags = list(tags)\n",
        "print(f'Существуют {len(tags)} различных тэгов')"
      ]
    },
    {
      "cell_type": "code",
      "execution_count": 87,
      "id": "70a54407",
      "metadata": {
        "id": "70a54407",
        "outputId": "659469e0-725e-4b93-fcaf-72d87056e4fc",
        "colab": {
          "base_uri": "https://localhost:8080/"
        }
      },
      "outputs": [
        {
          "output_type": "execute_result",
          "data": {
            "text/plain": [
              "array(['51 131 162 38', '131 36 81', '131 101 162 92', ..., '73', '125',\n",
              "       '55'], dtype=object)"
            ]
          },
          "metadata": {},
          "execution_count": 87
        }
      ],
      "source": [
        "questions_data.tags.values"
      ]
    },
    {
      "cell_type": "markdown",
      "source": [
        "Секция аудирования состоит из частей 1-4 (Секция аудирования (около 45 минут, 100 вопросов)).\n",
        "Раздел чтения состоит из частей 5-7 (раздел чтения (75 минут, 100 вопросов))."
      ],
      "metadata": {
        "id": "K1jpSyuLwDEg"
      },
      "id": "K1jpSyuLwDEg"
    },
    {
      "cell_type": "markdown",
      "source": [
        "Посмотрим количество и процент правильности по секциям."
      ],
      "metadata": {
        "id": "1fjgmXRpwGBV"
      },
      "id": "1fjgmXRpwGBV"
    },
    {
      "cell_type": "code",
      "execution_count": 88,
      "id": "9566c56a",
      "metadata": {
        "id": "9566c56a",
        "outputId": "567cfbb0-4bab-4558-a5a0-589eced49f92",
        "colab": {
          "base_uri": "https://localhost:8080/",
          "height": 276
        }
      },
      "outputs": [
        {
          "output_type": "display_data",
          "data": {
            "text/plain": [
              "<Figure size 864x576 with 1 Axes>"
            ],
            "image/png": "[encoded data removed]"
          },
          "metadata": {
            "needs_background": "light"
          }
        }
      ],
      "source": [
        "fig = plt.figure(figsize=(12,8))\n",
        "ax1 = fig.add_subplot(211)\n",
        "ax1 = questions_data.groupby(\"part\").count()['question_id'].plot.bar()\n",
        "plt.title(\"Количество секций\")\n",
        "plt.xlabel(\"Секция\")\n",
        "plt.xticks(rotation=0)\n",
        "\n",
        "plt.show()"
      ]
    },
    {
      "cell_type": "markdown",
      "source": [
        "Вывод: в части 5 гораздо больше id_вопросов."
      ],
      "metadata": {
        "id": "wtBJP2EIwNwS"
      },
      "id": "wtBJP2EIwNwS"
    },
    {
      "cell_type": "markdown",
      "id": "794244a1",
      "metadata": {
        "id": "794244a1"
      },
      "source": [
        "# Перейдем к lecture dataset"
      ]
    },
    {
      "cell_type": "code",
      "execution_count": 89,
      "id": "bcedb586",
      "metadata": {
        "id": "bcedb586",
        "outputId": "134fcf73-ea4a-40f3-c3cd-82a287ec573d",
        "colab": {
          "base_uri": "https://localhost:8080/",
          "height": 206
        }
      },
      "outputs": [
        {
          "output_type": "execute_result",
          "data": {
            "text/plain": [
              "   lecture_id  tag  part           type_of\n",
              "0          89  159     5           concept\n",
              "1         100   70     1           concept\n",
              "2         185   45     6           concept\n",
              "3         192   79     5  solving question\n",
              "4         317  156     5  solving question"
            ],
            "text/html": [
              "\n",
              "  <div id=\"df-321db655-16c5-4d14-9523-cff645d04a1c\">\n",
              "    <div class=\"colab-df-container\">\n",
              "      <div>\n",
              "<style scoped>\n",
              "    .dataframe tbody tr th:only-of-type {\n",
              "        vertical-align: middle;\n",
              "    }\n",
              "\n",
              "    .dataframe tbody tr th {\n",
              "        vertical-align: top;\n",
              "    }\n",
              "\n",
              "    .dataframe thead th {\n",
              "        text-align: right;\n",
              "    }\n",
              "</style>\n",
              "<table border=\"1\" class=\"dataframe\">\n",
              "  <thead>\n",
              "    <tr style=\"text-align: right;\">\n",
              "      <th></th>\n",
              "      <th>lecture_id</th>\n",
              "      <th>tag</th>\n",
              "      <th>part</th>\n",
              "      <th>type_of</th>\n",
              "    </tr>\n",
              "  </thead>\n",
              "  <tbody>\n",
              "    <tr>\n",
              "      <th>0</th>\n",
              "      <td>89</td>\n",
              "      <td>159</td>\n",
              "      <td>5</td>\n",
              "      <td>concept</td>\n",
              "    </tr>\n",
              "    <tr>\n",
              "      <th>1</th>\n",
              "      <td>100</td>\n",
              "      <td>70</td>\n",
              "      <td>1</td>\n",
              "      <td>concept</td>\n",
              "    </tr>\n",
              "    <tr>\n",
              "      <th>2</th>\n",
              "      <td>185</td>\n",
              "      <td>45</td>\n",
              "      <td>6</td>\n",
              "      <td>concept</td>\n",
              "    </tr>\n",
              "    <tr>\n",
              "      <th>3</th>\n",
              "      <td>192</td>\n",
              "      <td>79</td>\n",
              "      <td>5</td>\n",
              "      <td>solving question</td>\n",
              "    </tr>\n",
              "    <tr>\n",
              "      <th>4</th>\n",
              "      <td>317</td>\n",
              "      <td>156</td>\n",
              "      <td>5</td>\n",
              "      <td>solving question</td>\n",
              "    </tr>\n",
              "  </tbody>\n",
              "</table>\n",
              "</div>\n",
              "      <button class=\"colab-df-convert\" onclick=\"convertToInteractive('df-321db655-16c5-4d14-9523-cff645d04a1c')\"\n",
              "              title=\"Convert this dataframe to an interactive table.\"\n",
              "              style=\"display:none;\">\n",
              "        \n",
              "  <svg xmlns=\"http://www.w3.org/2000/svg\" height=\"24px\"viewBox=\"0 0 24 24\"\n",
              "       width=\"24px\">\n",
              "    <path d=\"M0 0h24v24H0V0z\" fill=\"none\"/>\n",
              "    <path d=\"M18.56 5.44l.94 2.06.94-2.06 2.06-.94-2.06-.94-.94-2.06-.94 2.06-2.06.94zm-11 1L8.5 8.5l.94-2.06 2.06-.94-2.06-.94L8.5 2.5l-.94 2.06-2.06.94zm10 10l.94 2.06.94-2.06 2.06-.94-2.06-.94-.94-2.06-.94 2.06-2.06.94z\"/><path d=\"M17.41 7.96l-1.37-1.37c-.4-.4-.92-.59-1.43-.59-.52 0-1.04.2-1.43.59L10.3 9.45l-7.72 7.72c-.78.78-.78 2.05 0 2.83L4 21.41c.39.39.9.59 1.41.59.51 0 1.02-.2 1.41-.59l7.78-7.78 2.81-2.81c.8-.78.8-2.07 0-2.86zM5.41 20L4 18.59l7.72-7.72 1.47 1.35L5.41 20z\"/>\n",
              "  </svg>\n",
              "      </button>\n",
              "      \n",
              "  <style>\n",
              "    .colab-df-container {\n",
              "      display:flex;\n",
              "      flex-wrap:wrap;\n",
              "      gap: 12px;\n",
              "    }\n",
              "\n",
              "    .colab-df-convert {\n",
              "      background-color: #E8F0FE;\n",
              "      border: none;\n",
              "      border-radius: 50%;\n",
              "      cursor: pointer;\n",
              "      display: none;\n",
              "      fill: #1967D2;\n",
              "      height: 32px;\n",
              "      padding: 0 0 0 0;\n",
              "      width: 32px;\n",
              "    }\n",
              "\n",
              "    .colab-df-convert:hover {\n",
              "      background-color: #E2EBFA;\n",
              "      box-shadow: 0px 1px 2px rgba(60, 64, 67, 0.3), 0px 1px 3px 1px rgba(60, 64, 67, 0.15);\n",
              "      fill: #174EA6;\n",
              "    }\n",
              "\n",
              "    [theme=dark] .colab-df-convert {\n",
              "      background-color: #3B4455;\n",
              "      fill: #D2E3FC;\n",
              "    }\n",
              "\n",
              "    [theme=dark] .colab-df-convert:hover {\n",
              "      background-color: #434B5C;\n",
              "      box-shadow: 0px 1px 3px 1px rgba(0, 0, 0, 0.15);\n",
              "      filter: drop-shadow(0px 1px 2px rgba(0, 0, 0, 0.3));\n",
              "      fill: #FFFFFF;\n",
              "    }\n",
              "  </style>\n",
              "\n",
              "      <script>\n",
              "        const buttonEl =\n",
              "          document.querySelector('#df-321db655-16c5-4d14-9523-cff645d04a1c button.colab-df-convert');\n",
              "        buttonEl.style.display =\n",
              "          google.colab.kernel.accessAllowed ? 'block' : 'none';\n",
              "\n",
              "        async function convertToInteractive(key) {\n",
              "          const element = document.querySelector('#df-321db655-16c5-4d14-9523-cff645d04a1c');\n",
              "          const dataTable =\n",
              "            await google.colab.kernel.invokeFunction('convertToInteractive',\n",
              "                                                     [key], {});\n",
              "          if (!dataTable) return;\n",
              "\n",
              "          const docLinkHtml = 'Like what you see? Visit the ' +\n",
              "            '<a target=\"_blank\" href=https://colab.research.google.com/notebooks/data_table.ipynb>data table notebook</a>'\n",
              "            + ' to learn more about interactive tables.';\n",
              "          element.innerHTML = '';\n",
              "          dataTable['output_type'] = 'display_data';\n",
              "          await google.colab.output.renderOutput(dataTable, element);\n",
              "          const docLink = document.createElement('div');\n",
              "          docLink.innerHTML = docLinkHtml;\n",
              "          element.appendChild(docLink);\n",
              "        }\n",
              "      </script>\n",
              "    </div>\n",
              "  </div>\n",
              "  "
            ]
          },
          "metadata": {},
          "execution_count": 89
        }
      ],
      "source": [
        "lectures_data = pd.read_csv('data/lectures.csv', sep=',')\n",
        "lectures_data.head()"
      ]
    },
    {
      "cell_type": "code",
      "execution_count": 90,
      "id": "e61b37d3",
      "metadata": {
        "id": "e61b37d3",
        "outputId": "d302c158-3d04-4cc1-b1fb-107518486cae",
        "colab": {
          "base_uri": "https://localhost:8080/"
        }
      },
      "outputs": [
        {
          "output_type": "stream",
          "name": "stdout",
          "text": [
            "Существуют 418 идентификаторов лекций.\n"
          ]
        }
      ],
      "source": [
        "print(f'Существуют {lectures_data.shape[0]} идентификаторов лекций.')"
      ]
    },
    {
      "cell_type": "code",
      "execution_count": 91,
      "id": "dc4b7f1b",
      "metadata": {
        "id": "dc4b7f1b",
        "outputId": "342ff0c8-1078-4625-cd3a-4d0e1c1381e3",
        "colab": {
          "base_uri": "https://localhost:8080/",
          "height": 404
        }
      },
      "outputs": [
        {
          "output_type": "display_data",
          "data": {
            "text/plain": [
              "<Figure size 864x432 with 1 Axes>"
            ],
            "image/png": "[encoded data removed]"
          },
          "metadata": {
            "needs_background": "light"
          }
        }
      ],
      "source": [
        "lect_type_of = lectures_data.type_of.value_counts()\n",
        "\n",
        "fig = plt.figure(figsize=(12,6))\n",
        "plt.bar(lect_type_of.index, lect_type_of.values)\n",
        "for i, v in zip(lect_type_of.index, lect_type_of.values):\n",
        "    plt.text(i, v, v, color='black', fontweight='bold', fontsize=14, va='bottom', ha='center')\n",
        "plt.title(\"Типы лекций\")\n",
        "plt.xlabel(\"Тип\")\n",
        "plt.ylabel(\"Количество\")\n",
        "plt.xticks(rotation=0)\n",
        "plt.show()"
      ]
    },
    {
      "cell_type": "code",
      "execution_count": 92,
      "id": "4e1e2a61",
      "metadata": {
        "id": "4e1e2a61",
        "outputId": "e7372440-736b-4207-b1b7-a4ec8b392a64",
        "colab": {
          "base_uri": "https://localhost:8080/",
          "height": 349
        }
      },
      "outputs": [
        {
          "output_type": "stream",
          "name": "stdout",
          "text": [
            "False    205\n",
            "True     144\n",
            "Name: Watches_lecture, dtype: int64\n"
          ]
        },
        {
          "output_type": "display_data",
          "data": {
            "text/plain": [
              "<Figure size 864x288 with 1 Axes>"
            ],
            "image/png": "[encoded data removed]"
          },
          "metadata": {
            "needs_background": "light"
          }
        }
      ],
      "source": [
        "user_lect = train_data.groupby([\"user_id\", \"answered_correctly\"]).size().unstack()\n",
        "user_lect.columns = ['Lecture', 'Wrong', 'Right']\n",
        "user_lect['Lecture'] = user_lect['Lecture'].fillna(0)\n",
        "user_lect = user_lect.astype('Int64')\n",
        "user_lect['Watches_lecture'] = np.where(user_lect.Lecture > 0, True, False)\n",
        "\n",
        "watches_l = user_lect.groupby(\"Watches_lecture\").agg({'Wrong': ['sum'], 'Right': ['sum']})\n",
        "print(user_lect.Watches_lecture.value_counts())\n",
        "\n",
        "watches_l['Percent_correct'] = watches_l.Right/(watches_l.Right + watches_l.Wrong)\n",
        "\n",
        "watches_l = watches_l.iloc[:,2]\n",
        "\n",
        "fig = plt.figure(figsize=(12,4))\n",
        "watches_l.plot.barh()\n",
        "for i, v in zip(watches_l.index, watches_l.values):\n",
        "    plt.text(v, i, round(v,2), color='white', fontweight='bold', fontsize=14, ha='right', va='center')\n",
        "\n",
        "plt.title(\"Пользователь смотрит лекции, правильность ответов\")\n",
        "plt.xlabel(\"Правильность ответов\")\n",
        "plt.ylabel(\"Пользователь смотрел хотя бы 1 лекцию\")\n",
        "plt.xticks(rotation=0)\n",
        "plt.show()"
      ]
    },
    {
      "cell_type": "code",
      "execution_count": 93,
      "id": "43a81a3c",
      "metadata": {
        "id": "43a81a3c",
        "outputId": "5127509c-f61d-42e1-d501-3baf97feb59f",
        "colab": {
          "base_uri": "https://localhost:8080/"
        }
      },
      "outputs": [
        {
          "output_type": "stream",
          "name": "stdout",
          "text": [
            "Наибольшее количество лекций, просмотренных в пределах одного task_container_id, равно 7.\n"
          ]
        }
      ],
      "source": [
        "batch_lect = train_data.groupby([\"task_container_id\", \"answered_correctly\"]).size().unstack()\n",
        "batch_lect.columns = ['Lecture', 'Wrong', 'Right']\n",
        "batch_lect['Lecture'] = batch_lect['Lecture'].fillna(0)\n",
        "batch_lect = batch_lect.astype('Int64')\n",
        "batch_lect['Percent_correct'] = batch_lect.Right/(batch_lect.Wrong + batch_lect.Right)\n",
        "batch_lect['Percent_lecture'] = batch_lect.Lecture/(batch_lect.Lecture + batch_lect.Wrong + batch_lect.Right)\n",
        "batch_lect = batch_lect.sort_values(by = \"Percent_lecture\", ascending = False)\n",
        "\n",
        "print(f'Наибольшее количество лекций, просмотренных в пределах одного task_container_id, равно {batch_lect.Lecture.max()}.')"
      ]
    },
    {
      "cell_type": "code",
      "execution_count": 94,
      "id": "d5203f72",
      "metadata": {
        "id": "d5203f72",
        "outputId": "093ef7bd-6a97-4a1a-e626-eb4cdc31de3a",
        "colab": {
          "base_uri": "https://localhost:8080/",
          "height": 238
        }
      },
      "outputs": [
        {
          "output_type": "execute_result",
          "data": {
            "text/plain": [
              "                   Lecture  Wrong  Right  Percent_correct  Percent_lecture\n",
              "task_container_id                                                         \n",
              "3053                     1      1      1              0.5         0.333333\n",
              "4303                     1      1      1              0.5         0.333333\n",
              "4661                     1      1      1              0.5         0.333333\n",
              "4449                     1      1      1              0.5         0.333333\n",
              "4224                     1      1      1              0.5         0.333333"
            ],
            "text/html": [
              "\n",
              "  <div id=\"df-781b70d3-6363-478a-87f4-641fa8fdb3b9\">\n",
              "    <div class=\"colab-df-container\">\n",
              "      <div>\n",
              "<style scoped>\n",
              "    .dataframe tbody tr th:only-of-type {\n",
              "        vertical-align: middle;\n",
              "    }\n",
              "\n",
              "    .dataframe tbody tr th {\n",
              "        vertical-align: top;\n",
              "    }\n",
              "\n",
              "    .dataframe thead th {\n",
              "        text-align: right;\n",
              "    }\n",
              "</style>\n",
              "<table border=\"1\" class=\"dataframe\">\n",
              "  <thead>\n",
              "    <tr style=\"text-align: right;\">\n",
              "      <th></th>\n",
              "      <th>Lecture</th>\n",
              "      <th>Wrong</th>\n",
              "      <th>Right</th>\n",
              "      <th>Percent_correct</th>\n",
              "      <th>Percent_lecture</th>\n",
              "    </tr>\n",
              "    <tr>\n",
              "      <th>task_container_id</th>\n",
              "      <th></th>\n",
              "      <th></th>\n",
              "      <th></th>\n",
              "      <th></th>\n",
              "      <th></th>\n",
              "    </tr>\n",
              "  </thead>\n",
              "  <tbody>\n",
              "    <tr>\n",
              "      <th>3053</th>\n",
              "      <td>1</td>\n",
              "      <td>1</td>\n",
              "      <td>1</td>\n",
              "      <td>0.5</td>\n",
              "      <td>0.333333</td>\n",
              "    </tr>\n",
              "    <tr>\n",
              "      <th>4303</th>\n",
              "      <td>1</td>\n",
              "      <td>1</td>\n",
              "      <td>1</td>\n",
              "      <td>0.5</td>\n",
              "      <td>0.333333</td>\n",
              "    </tr>\n",
              "    <tr>\n",
              "      <th>4661</th>\n",
              "      <td>1</td>\n",
              "      <td>1</td>\n",
              "      <td>1</td>\n",
              "      <td>0.5</td>\n",
              "      <td>0.333333</td>\n",
              "    </tr>\n",
              "    <tr>\n",
              "      <th>4449</th>\n",
              "      <td>1</td>\n",
              "      <td>1</td>\n",
              "      <td>1</td>\n",
              "      <td>0.5</td>\n",
              "      <td>0.333333</td>\n",
              "    </tr>\n",
              "    <tr>\n",
              "      <th>4224</th>\n",
              "      <td>1</td>\n",
              "      <td>1</td>\n",
              "      <td>1</td>\n",
              "      <td>0.5</td>\n",
              "      <td>0.333333</td>\n",
              "    </tr>\n",
              "  </tbody>\n",
              "</table>\n",
              "</div>\n",
              "      <button class=\"colab-df-convert\" onclick=\"convertToInteractive('df-781b70d3-6363-478a-87f4-641fa8fdb3b9')\"\n",
              "              title=\"Convert this dataframe to an interactive table.\"\n",
              "              style=\"display:none;\">\n",
              "        \n",
              "  <svg xmlns=\"http://www.w3.org/2000/svg\" height=\"24px\"viewBox=\"0 0 24 24\"\n",
              "       width=\"24px\">\n",
              "    <path d=\"M0 0h24v24H0V0z\" fill=\"none\"/>\n",
              "    <path d=\"M18.56 5.44l.94 2.06.94-2.06 2.06-.94-2.06-.94-.94-2.06-.94 2.06-2.06.94zm-11 1L8.5 8.5l.94-2.06 2.06-.94-2.06-.94L8.5 2.5l-.94 2.06-2.06.94zm10 10l.94 2.06.94-2.06 2.06-.94-2.06-.94-.94-2.06-.94 2.06-2.06.94z\"/><path d=\"M17.41 7.96l-1.37-1.37c-.4-.4-.92-.59-1.43-.59-.52 0-1.04.2-1.43.59L10.3 9.45l-7.72 7.72c-.78.78-.78 2.05 0 2.83L4 21.41c.39.39.9.59 1.41.59.51 0 1.02-.2 1.41-.59l7.78-7.78 2.81-2.81c.8-.78.8-2.07 0-2.86zM5.41 20L4 18.59l7.72-7.72 1.47 1.35L5.41 20z\"/>\n",
              "  </svg>\n",
              "      </button>\n",
              "      \n",
              "  <style>\n",
              "    .colab-df-container {\n",
              "      display:flex;\n",
              "      flex-wrap:wrap;\n",
              "      gap: 12px;\n",
              "    }\n",
              "\n",
              "    .colab-df-convert {\n",
              "      background-color: #E8F0FE;\n",
              "      border: none;\n",
              "      border-radius: 50%;\n",
              "      cursor: pointer;\n",
              "      display: none;\n",
              "      fill: #1967D2;\n",
              "      height: 32px;\n",
              "      padding: 0 0 0 0;\n",
              "      width: 32px;\n",
              "    }\n",
              "\n",
              "    .colab-df-convert:hover {\n",
              "      background-color: #E2EBFA;\n",
              "      box-shadow: 0px 1px 2px rgba(60, 64, 67, 0.3), 0px 1px 3px 1px rgba(60, 64, 67, 0.15);\n",
              "      fill: #174EA6;\n",
              "    }\n",
              "\n",
              "    [theme=dark] .colab-df-convert {\n",
              "      background-color: #3B4455;\n",
              "      fill: #D2E3FC;\n",
              "    }\n",
              "\n",
              "    [theme=dark] .colab-df-convert:hover {\n",
              "      background-color: #434B5C;\n",
              "      box-shadow: 0px 1px 3px 1px rgba(0, 0, 0, 0.15);\n",
              "      filter: drop-shadow(0px 1px 2px rgba(0, 0, 0, 0.3));\n",
              "      fill: #FFFFFF;\n",
              "    }\n",
              "  </style>\n",
              "\n",
              "      <script>\n",
              "        const buttonEl =\n",
              "          document.querySelector('#df-781b70d3-6363-478a-87f4-641fa8fdb3b9 button.colab-df-convert');\n",
              "        buttonEl.style.display =\n",
              "          google.colab.kernel.accessAllowed ? 'block' : 'none';\n",
              "\n",
              "        async function convertToInteractive(key) {\n",
              "          const element = document.querySelector('#df-781b70d3-6363-478a-87f4-641fa8fdb3b9');\n",
              "          const dataTable =\n",
              "            await google.colab.kernel.invokeFunction('convertToInteractive',\n",
              "                                                     [key], {});\n",
              "          if (!dataTable) return;\n",
              "\n",
              "          const docLinkHtml = 'Like what you see? Visit the ' +\n",
              "            '<a target=\"_blank\" href=https://colab.research.google.com/notebooks/data_table.ipynb>data table notebook</a>'\n",
              "            + ' to learn more about interactive tables.';\n",
              "          element.innerHTML = '';\n",
              "          dataTable['output_type'] = 'display_data';\n",
              "          await google.colab.output.renderOutput(dataTable, element);\n",
              "          const docLink = document.createElement('div');\n",
              "          docLink.innerHTML = docLinkHtml;\n",
              "          element.appendChild(docLink);\n",
              "        }\n",
              "      </script>\n",
              "    </div>\n",
              "  </div>\n",
              "  "
            ]
          },
          "metadata": {},
          "execution_count": 94
        }
      ],
      "source": [
        "batch_lect.head()"
      ]
    },
    {
      "cell_type": "code",
      "execution_count": 95,
      "id": "6732f74a",
      "metadata": {
        "id": "6732f74a",
        "outputId": "1e385a12-67d8-4450-97b3-402609dc2b12",
        "colab": {
          "base_uri": "https://localhost:8080/"
        }
      },
      "outputs": [
        {
          "output_type": "stream",
          "name": "stdout",
          "text": [
            "У нас есть 1162 task_container_ids c лекциями и 4469 task_container_ids без лекций.\n"
          ]
        }
      ],
      "source": [
        "batch_lect['Has_lecture'] = np.where(batch_lect.Lecture == 0, False, True)\n",
        "print(f'У нас есть {batch_lect[batch_lect.Has_lecture == True].shape[0]} task_container_ids c лекциями и {batch_lect[batch_lect.Has_lecture == False].shape[0]} task_container_ids без лекций.')"
      ]
    },
    {
      "cell_type": "code",
      "execution_count": 96,
      "id": "24cf7772",
      "metadata": {
        "id": "24cf7772",
        "outputId": "c5524a13-6b3a-4e2d-9c85-328c2e3df67e",
        "colab": {
          "base_uri": "https://localhost:8080/",
          "height": 143
        }
      },
      "outputs": [
        {
          "output_type": "execute_result",
          "data": {
            "text/plain": [
              "             Percent_correct\n",
              "Has_lecture                 \n",
              "False               0.703202\n",
              "True                0.670968"
            ],
            "text/html": [
              "\n",
              "  <div id=\"df-eef48218-7668-4807-a2a5-a91520eda658\">\n",
              "    <div class=\"colab-df-container\">\n",
              "      <div>\n",
              "<style scoped>\n",
              "    .dataframe tbody tr th:only-of-type {\n",
              "        vertical-align: middle;\n",
              "    }\n",
              "\n",
              "    .dataframe tbody tr th {\n",
              "        vertical-align: top;\n",
              "    }\n",
              "\n",
              "    .dataframe thead th {\n",
              "        text-align: right;\n",
              "    }\n",
              "</style>\n",
              "<table border=\"1\" class=\"dataframe\">\n",
              "  <thead>\n",
              "    <tr style=\"text-align: right;\">\n",
              "      <th></th>\n",
              "      <th>Percent_correct</th>\n",
              "    </tr>\n",
              "    <tr>\n",
              "      <th>Has_lecture</th>\n",
              "      <th></th>\n",
              "    </tr>\n",
              "  </thead>\n",
              "  <tbody>\n",
              "    <tr>\n",
              "      <th>False</th>\n",
              "      <td>0.703202</td>\n",
              "    </tr>\n",
              "    <tr>\n",
              "      <th>True</th>\n",
              "      <td>0.670968</td>\n",
              "    </tr>\n",
              "  </tbody>\n",
              "</table>\n",
              "</div>\n",
              "      <button class=\"colab-df-convert\" onclick=\"convertToInteractive('df-eef48218-7668-4807-a2a5-a91520eda658')\"\n",
              "              title=\"Convert this dataframe to an interactive table.\"\n",
              "              style=\"display:none;\">\n",
              "        \n",
              "  <svg xmlns=\"http://www.w3.org/2000/svg\" height=\"24px\"viewBox=\"0 0 24 24\"\n",
              "       width=\"24px\">\n",
              "    <path d=\"M0 0h24v24H0V0z\" fill=\"none\"/>\n",
              "    <path d=\"M18.56 5.44l.94 2.06.94-2.06 2.06-.94-2.06-.94-.94-2.06-.94 2.06-2.06.94zm-11 1L8.5 8.5l.94-2.06 2.06-.94-2.06-.94L8.5 2.5l-.94 2.06-2.06.94zm10 10l.94 2.06.94-2.06 2.06-.94-2.06-.94-.94-2.06-.94 2.06-2.06.94z\"/><path d=\"M17.41 7.96l-1.37-1.37c-.4-.4-.92-.59-1.43-.59-.52 0-1.04.2-1.43.59L10.3 9.45l-7.72 7.72c-.78.78-.78 2.05 0 2.83L4 21.41c.39.39.9.59 1.41.59.51 0 1.02-.2 1.41-.59l7.78-7.78 2.81-2.81c.8-.78.8-2.07 0-2.86zM5.41 20L4 18.59l7.72-7.72 1.47 1.35L5.41 20z\"/>\n",
              "  </svg>\n",
              "      </button>\n",
              "      \n",
              "  <style>\n",
              "    .colab-df-container {\n",
              "      display:flex;\n",
              "      flex-wrap:wrap;\n",
              "      gap: 12px;\n",
              "    }\n",
              "\n",
              "    .colab-df-convert {\n",
              "      background-color: #E8F0FE;\n",
              "      border: none;\n",
              "      border-radius: 50%;\n",
              "      cursor: pointer;\n",
              "      display: none;\n",
              "      fill: #1967D2;\n",
              "      height: 32px;\n",
              "      padding: 0 0 0 0;\n",
              "      width: 32px;\n",
              "    }\n",
              "\n",
              "    .colab-df-convert:hover {\n",
              "      background-color: #E2EBFA;\n",
              "      box-shadow: 0px 1px 2px rgba(60, 64, 67, 0.3), 0px 1px 3px 1px rgba(60, 64, 67, 0.15);\n",
              "      fill: #174EA6;\n",
              "    }\n",
              "\n",
              "    [theme=dark] .colab-df-convert {\n",
              "      background-color: #3B4455;\n",
              "      fill: #D2E3FC;\n",
              "    }\n",
              "\n",
              "    [theme=dark] .colab-df-convert:hover {\n",
              "      background-color: #434B5C;\n",
              "      box-shadow: 0px 1px 3px 1px rgba(0, 0, 0, 0.15);\n",
              "      filter: drop-shadow(0px 1px 2px rgba(0, 0, 0, 0.3));\n",
              "      fill: #FFFFFF;\n",
              "    }\n",
              "  </style>\n",
              "\n",
              "      <script>\n",
              "        const buttonEl =\n",
              "          document.querySelector('#df-eef48218-7668-4807-a2a5-a91520eda658 button.colab-df-convert');\n",
              "        buttonEl.style.display =\n",
              "          google.colab.kernel.accessAllowed ? 'block' : 'none';\n",
              "\n",
              "        async function convertToInteractive(key) {\n",
              "          const element = document.querySelector('#df-eef48218-7668-4807-a2a5-a91520eda658');\n",
              "          const dataTable =\n",
              "            await google.colab.kernel.invokeFunction('convertToInteractive',\n",
              "                                                     [key], {});\n",
              "          if (!dataTable) return;\n",
              "\n",
              "          const docLinkHtml = 'Like what you see? Visit the ' +\n",
              "            '<a target=\"_blank\" href=https://colab.research.google.com/notebooks/data_table.ipynb>data table notebook</a>'\n",
              "            + ' to learn more about interactive tables.';\n",
              "          element.innerHTML = '';\n",
              "          dataTable['output_type'] = 'display_data';\n",
              "          await google.colab.output.renderOutput(dataTable, element);\n",
              "          const docLink = document.createElement('div');\n",
              "          docLink.innerHTML = docLinkHtml;\n",
              "          element.appendChild(docLink);\n",
              "        }\n",
              "      </script>\n",
              "    </div>\n",
              "  </div>\n",
              "  "
            ]
          },
          "metadata": {},
          "execution_count": 96
        }
      ],
      "source": [
        "batch_lect = batch_lect[['Wrong', 'Right', 'Has_lecture']]\n",
        "batch_lect = batch_lect.groupby(\"Has_lecture\").sum()\n",
        "batch_lect['Percent_correct'] = batch_lect.Right/(batch_lect.Wrong + batch_lect.Right)\n",
        "batch_lect = batch_lect[['Percent_correct']]\n",
        "batch_lect"
      ]
    }
  ],
  "metadata": {
    "kernelspec": {
      "display_name": "Python 3 (ipykernel)",
      "language": "python",
      "name": "python3"
    },
    "language_info": {
      "codemirror_mode": {
        "name": "ipython",
        "version": 3
      },
      "file_extension": ".py",
      "mimetype": "text/x-python",
      "name": "python",
      "nbconvert_exporter": "python",
      "pygments_lexer": "ipython3",
      "version": "3.9.12"
    },
    "colab": {
      "provenance": [],
      "include_colab_link": true
    }
  },
  "nbformat": 4,
  "nbformat_minor": 5
}